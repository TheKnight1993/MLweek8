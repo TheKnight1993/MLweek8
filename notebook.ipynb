{
 "cells": [
  {
   "cell_type": "code",
   "execution_count": 9,
   "metadata": {},
   "outputs": [
    {
     "name": "stdout",
     "output_type": "stream",
     "text": [
      "Collecting scikit-learn\n",
      "  Downloading scikit_learn-1.4.2-cp311-cp311-win_amd64.whl.metadata (11 kB)\n",
      "Requirement already satisfied: numpy>=1.19.5 in c:\\users\\mathi\\appdata\\local\\programs\\python\\python311\\lib\\site-packages (from scikit-learn) (1.24.2)\n",
      "Requirement already satisfied: scipy>=1.6.0 in c:\\users\\mathi\\appdata\\local\\programs\\python\\python311\\lib\\site-packages (from scikit-learn) (1.10.1)\n",
      "Collecting joblib>=1.2.0 (from scikit-learn)\n",
      "  Downloading joblib-1.4.0-py3-none-any.whl.metadata (5.4 kB)\n",
      "Collecting threadpoolctl>=2.0.0 (from scikit-learn)\n",
      "  Downloading threadpoolctl-3.4.0-py3-none-any.whl.metadata (13 kB)\n",
      "Downloading scikit_learn-1.4.2-cp311-cp311-win_amd64.whl (10.6 MB)\n",
      "   ---------------------------------------- 0.0/10.6 MB ? eta -:--:--\n",
      "   ---------------------------------------- 0.1/10.6 MB 3.6 MB/s eta 0:00:03\n",
      "   - -------------------------------------- 0.5/10.6 MB 6.6 MB/s eta 0:00:02\n",
      "   --- ------------------------------------ 1.0/10.6 MB 7.8 MB/s eta 0:00:02\n",
      "   ----- ---------------------------------- 1.5/10.6 MB 8.8 MB/s eta 0:00:02\n",
      "   ------- -------------------------------- 2.1/10.6 MB 9.5 MB/s eta 0:00:01\n",
      "   ---------- ----------------------------- 2.7/10.6 MB 10.1 MB/s eta 0:00:01\n",
      "   ------------ --------------------------- 3.3/10.6 MB 10.5 MB/s eta 0:00:01\n",
      "   -------------- ------------------------- 3.9/10.6 MB 10.7 MB/s eta 0:00:01\n",
      "   ---------------- ----------------------- 4.4/10.6 MB 10.8 MB/s eta 0:00:01\n",
      "   ------------------ --------------------- 5.0/10.6 MB 10.6 MB/s eta 0:00:01\n",
      "   --------------------- ------------------ 5.6/10.6 MB 10.8 MB/s eta 0:00:01\n",
      "   ----------------------- ---------------- 6.2/10.6 MB 11.0 MB/s eta 0:00:01\n",
      "   ------------------------- -------------- 6.8/10.6 MB 11.4 MB/s eta 0:00:01\n",
      "   --------------------------- ------------ 7.4/10.6 MB 11.2 MB/s eta 0:00:01\n",
      "   ----------------------------- ---------- 7.9/10.6 MB 11.5 MB/s eta 0:00:01\n",
      "   ------------------------------ --------- 8.2/10.6 MB 11.1 MB/s eta 0:00:01\n",
      "   -------------------------------- ------- 8.7/10.6 MB 10.9 MB/s eta 0:00:01\n",
      "   ---------------------------------- ----- 9.3/10.6 MB 11.0 MB/s eta 0:00:01\n",
      "   ------------------------------------ --- 9.8/10.6 MB 11.2 MB/s eta 0:00:01\n",
      "   -------------------------------------- - 10.3/10.6 MB 11.5 MB/s eta 0:00:01\n",
      "   ---------------------------------------  10.6/10.6 MB 11.5 MB/s eta 0:00:01\n",
      "   ---------------------------------------  10.6/10.6 MB 11.5 MB/s eta 0:00:01\n",
      "   ---------------------------------------- 10.6/10.6 MB 10.6 MB/s eta 0:00:00\n",
      "Downloading joblib-1.4.0-py3-none-any.whl (301 kB)\n",
      "   ---------------------------------------- 0.0/301.2 kB ? eta -:--:--\n",
      "   --------------------------------------  297.0/301.2 kB 17.9 MB/s eta 0:00:01\n",
      "   ---------------------------------------- 301.2/301.2 kB 6.2 MB/s eta 0:00:00\n",
      "Downloading threadpoolctl-3.4.0-py3-none-any.whl (17 kB)\n",
      "Installing collected packages: threadpoolctl, joblib, scikit-learn\n",
      "Successfully installed joblib-1.4.0 scikit-learn-1.4.2 threadpoolctl-3.4.0\n",
      "Note: you may need to restart the kernel to use updated packages.\n"
     ]
    },
    {
     "name": "stderr",
     "output_type": "stream",
     "text": [
      "DEPRECATION: teroshdl 2.1.2 has a non-standard dependency specifier yowasp-yosys>=0.8.*. pip 24.1 will enforce this behaviour change. A possible replacement is to upgrade to a newer version of teroshdl or contact the author to suggest that they release a version with a conforming dependency specifiers. Discussion can be found at https://github.com/pypa/pip/issues/12063\n"
     ]
    }
   ],
   "source": [
    "#%pip install Pandas\n",
    "#%pip install keras\n",
    "#%pip install tensorflow\n",
    "#%pip install scikit-learn"
   ]
  },
  {
   "cell_type": "code",
   "execution_count": 3,
   "metadata": {},
   "outputs": [],
   "source": [
    "import os\n",
    "import matplotlib.pyplot as plt\n",
    "import pandas as pd\n",
    "import numpy as np\n",
    "import scipy as sp\n",
    "import keras\n",
    "import sklearn.decomposition\n",
    "import sklearn.model_selection\n",
    "import sklearn.preprocessing\n",
    "import sklearn.linear_model\n",
    "import sklearn.metrics\n"
   ]
  },
  {
   "cell_type": "markdown",
   "metadata": {},
   "source": [
    "- [1. Introduction](#1-introduction)\n",
    "\n"
   ]
  },
  {
   "cell_type": "markdown",
   "metadata": {},
   "source": [
    "# 1. Introduction\n",
    "\n",
    "Predicting for how much houses will sell will help current and prospective homeowners navigate the cluttered landscape of real estate. "
   ]
  },
  {
   "cell_type": "markdown",
   "metadata": {},
   "source": [
    "# 2. Dataset\n",
    "\n",
    "The dataset provided houses a lot of different parameters on which the price of a house can depend. Just to give a couple examples with their usual impact on the house price from general knowledge and experience:\n",
    "\n",
    "- LotArea: the area of the land on which a house stands. In general the higher this number the higher the price.\n",
    "- Bedroom: number of bedrooms above ground. In general the higher the number of bedrooms the higher the price.\n",
    "\n",
    "There are a lot more prameters that are contained in the dataset. For more detail on this consult the data_description.txt file. "
   ]
  },
  {
   "cell_type": "markdown",
   "metadata": {},
   "source": [
    "# 3. Analysing the dataset\n",
    "\n",
    "For this we first have to open the csv files that contain the data. In here we see that there are some columns that contain numeric data and some that do not. There are also some empty values. Before any models can be trained on the dataset we have to format it such that there are solely numeric values. In the data_description.txt file all the different kinds of non-numeric values can be found. "
   ]
  },
  {
   "cell_type": "code",
   "execution_count": 57,
   "metadata": {},
   "outputs": [
    {
     "name": "stdout",
     "output_type": "stream",
     "text": [
      "   Id  MSSubClass MSZoning  LotFrontage  LotArea Street Alley LotShape  \\\n",
      "0   1          60       RL         65.0     8450   Pave   NaN      Reg   \n",
      "1   2          20       RL         80.0     9600   Pave   NaN      Reg   \n",
      "2   3          60       RL         68.0    11250   Pave   NaN      IR1   \n",
      "3   4          70       RL         60.0     9550   Pave   NaN      IR1   \n",
      "4   5          60       RL         84.0    14260   Pave   NaN      IR1   \n",
      "\n",
      "  LandContour Utilities  ... PoolArea PoolQC Fence MiscFeature MiscVal MoSold  \\\n",
      "0         Lvl    AllPub  ...        0    NaN   NaN         NaN       0      2   \n",
      "1         Lvl    AllPub  ...        0    NaN   NaN         NaN       0      5   \n",
      "2         Lvl    AllPub  ...        0    NaN   NaN         NaN       0      9   \n",
      "3         Lvl    AllPub  ...        0    NaN   NaN         NaN       0      2   \n",
      "4         Lvl    AllPub  ...        0    NaN   NaN         NaN       0     12   \n",
      "\n",
      "  YrSold  SaleType  SaleCondition  SalePrice  \n",
      "0   2008        WD         Normal     208500  \n",
      "1   2007        WD         Normal     181500  \n",
      "2   2008        WD         Normal     223500  \n",
      "3   2006        WD        Abnorml     140000  \n",
      "4   2008        WD         Normal     250000  \n",
      "\n",
      "[5 rows x 81 columns]\n",
      "81\n",
      "     Id  MSSubClass MSZoning  LotFrontage  LotArea Street Alley LotShape  \\\n",
      "0  1461          20       RH         80.0    11622   Pave   NaN      Reg   \n",
      "1  1462          20       RL         81.0    14267   Pave   NaN      IR1   \n",
      "2  1463          60       RL         74.0    13830   Pave   NaN      IR1   \n",
      "3  1464          60       RL         78.0     9978   Pave   NaN      IR1   \n",
      "4  1465         120       RL         43.0     5005   Pave   NaN      IR1   \n",
      "\n",
      "  LandContour Utilities  ... ScreenPorch PoolArea PoolQC  Fence MiscFeature  \\\n",
      "0         Lvl    AllPub  ...         120        0    NaN  MnPrv         NaN   \n",
      "1         Lvl    AllPub  ...           0        0    NaN    NaN        Gar2   \n",
      "2         Lvl    AllPub  ...           0        0    NaN  MnPrv         NaN   \n",
      "3         Lvl    AllPub  ...           0        0    NaN    NaN         NaN   \n",
      "4         HLS    AllPub  ...         144        0    NaN    NaN         NaN   \n",
      "\n",
      "  MiscVal MoSold  YrSold  SaleType  SaleCondition  \n",
      "0       0      6    2010        WD         Normal  \n",
      "1   12500      6    2010        WD         Normal  \n",
      "2       0      3    2010        WD         Normal  \n",
      "3       0      6    2010        WD         Normal  \n",
      "4       0      1    2010        WD         Normal  \n",
      "\n",
      "[5 rows x 80 columns]\n"
     ]
    }
   ],
   "source": [
    "# accessing the csv files\n",
    "\n",
    "train_csv = pd.read_csv(\"./house-prices-advanced-regression-techniques/train.csv\")\n",
    "test_csv = pd.read_csv(\"./house-prices-advanced-regression-techniques/test.csv\")\n",
    "\n",
    "data_fields = train_csv.columns.values\n",
    "\n",
    "print(train_csv.head())\n",
    "print(len(data_fields))\n",
    "print(test_csv.head())"
   ]
  },
  {
   "cell_type": "code",
   "execution_count": 80,
   "metadata": {},
   "outputs": [
    {
     "name": "stdout",
     "output_type": "stream",
     "text": [
      "train_csv\n",
      "        Id  MSSubClass MSZoning  LotFrontage  LotArea Street Alley LotShape  \\\n",
      "0        1          60        6         65.0     8450      2     0        1   \n",
      "1        2          20        6         80.0     9600      2     0        1   \n",
      "2        3          60        6         68.0    11250      2     0        2   \n",
      "3        4          70        6         60.0     9550      2     0        2   \n",
      "4        5          60        6         84.0    14260      2     0        2   \n",
      "...    ...         ...      ...          ...      ...    ...   ...      ...   \n",
      "1455  1456          60        6         62.0     7917      2     0        1   \n",
      "1456  1457          20        6         85.0    13175      2     0        1   \n",
      "1457  1458          70        6         66.0     9042      2     0        1   \n",
      "1458  1459          20        6         68.0     9717      2     0        1   \n",
      "1459  1460          20        6         75.0     9937      2     0        1   \n",
      "\n",
      "     LandContour Utilities  ... PoolArea PoolQC Fence MiscFeature MiscVal  \\\n",
      "0              1         1  ...        0      0     0           0       0   \n",
      "1              1         1  ...        0      0     0           0       0   \n",
      "2              1         1  ...        0      0     0           0       0   \n",
      "3              1         1  ...        0      0     0           0       0   \n",
      "4              1         1  ...        0      0     0           0       0   \n",
      "...          ...       ...  ...      ...    ...   ...         ...     ...   \n",
      "1455           1         1  ...        0      0     0           0       0   \n",
      "1456           1         1  ...        0      0     2           0       0   \n",
      "1457           1         1  ...        0      0     1           6    2500   \n",
      "1458           1         1  ...        0      0     0           0       0   \n",
      "1459           1         1  ...        0      0     0           0       0   \n",
      "\n",
      "     MoSold YrSold  SaleType  SaleCondition  SalePrice  \n",
      "0         2   2008         1              1     208500  \n",
      "1         5   2007         1              1     181500  \n",
      "2         9   2008         1              1     223500  \n",
      "3         2   2006         1              2     140000  \n",
      "4        12   2008         1              1     250000  \n",
      "...     ...    ...       ...            ...        ...  \n",
      "1455      8   2007         1              1     175000  \n",
      "1456      2   2010         1              1     210000  \n",
      "1457      5   2010         1              1     266500  \n",
      "1458      4   2010         1              1     142125  \n",
      "1459      6   2008         1              1     147500  \n",
      "\n",
      "[1460 rows x 81 columns]\n",
      "test_csv\n",
      "        Id  MSSubClass MSZoning  LotFrontage  LotArea Street Alley LotShape  \\\n",
      "0     1461          20        5         80.0    11622      2     0        1   \n",
      "1     1462          20        6         81.0    14267      2     0        2   \n",
      "2     1463          60        6         74.0    13830      2     0        2   \n",
      "3     1464          60        6         78.0     9978      2     0        2   \n",
      "4     1465         120        6         43.0     5005      2     0        2   \n",
      "...    ...         ...      ...          ...      ...    ...   ...      ...   \n",
      "1454  2915         160        8         21.0     1936      2     0        1   \n",
      "1455  2916         160        8         21.0     1894      2     0        1   \n",
      "1456  2917          20        6        160.0    20000      2     0        1   \n",
      "1457  2918          85        6         62.0    10441      2     0        1   \n",
      "1458  2919          60        6         74.0     9627      2     0        1   \n",
      "\n",
      "     LandContour Utilities  ... ScreenPorch PoolArea PoolQC Fence MiscFeature  \\\n",
      "0              1         1  ...         120        0      0     2           0   \n",
      "1              1         1  ...           0        0      0     0           2   \n",
      "2              1         1  ...           0        0      0     2           0   \n",
      "3              1         1  ...           0        0      0     0           0   \n",
      "4              3         1  ...         144        0      0     0           0   \n",
      "...          ...       ...  ...         ...      ...    ...   ...         ...   \n",
      "1454           1         1  ...           0        0      0     0           0   \n",
      "1455           1         1  ...           0        0      0     0           0   \n",
      "1456           1         1  ...           0        0      0     0           0   \n",
      "1457           1         1  ...           0        0      0     2           6   \n",
      "1458           1         1  ...           0        0      0     0           0   \n",
      "\n",
      "     MiscVal MoSold  YrSold  SaleType  SaleCondition  \n",
      "0          0      6    2010         1              1  \n",
      "1      12500      6    2010         1              1  \n",
      "2          0      3    2010         1              1  \n",
      "3          0      6    2010         1              1  \n",
      "4          0      1    2010         1              1  \n",
      "...      ...    ...     ...       ...            ...  \n",
      "1454       0      6    2006         1              1  \n",
      "1455       0      4    2006         1              2  \n",
      "1456       0      9    2006         1              2  \n",
      "1457     700      7    2006         1              1  \n",
      "1458       0     11    2006         1              1  \n",
      "\n",
      "[1459 rows x 80 columns]\n"
     ]
    }
   ],
   "source": [
    "# formatting the data\n",
    "\n",
    "# change the NaN values to zero\n",
    "\n",
    "train_csv = train_csv.mask(pd.isna(train_csv), 0)\n",
    "test_csv = test_csv.mask(pd.isna(test_csv), 0)\n",
    "\n",
    "classes = { \n",
    "    \"mszoning_classes\"          :     [\"A\",\"C\",\"FV\",\"I\",\"RH\",\"RL\",\"RP\",\"RM\"],\n",
    "    \"street_classes\"            :      [\"Grvl\",\"Pave\",\"C (all)\"],\n",
    "    \"alley_classes\"             :      [\"Grvl\",\"Pave\",\"NA\"],\n",
    "    \"lotshape_classes\"          :      [\"Reg\",\"IR1\",\"IR2\",\"IR3\"],\n",
    "    \"landcontour_classes\"       :      [\"Lvl\",\"Bnk\",\"HLS\",\"Low\"],\n",
    "    \"utilities_classes\"         :      [\"AllPub\",\"NoSewr\",\"NoSeWa\",\"ELO\"],\n",
    "    \"lotconfig_classes\"         :      [\"Inside\",\"Corner\",\"CulDSac\",\"FR2\",\"FR3\"],\n",
    "    \"landslope_classes\"         :      [\"Gtl\",\"Mod\",\"Sev\"],\n",
    "    \"neighborhood_classes\"      :      [\"Blmngtn\",\"Blueste\",\"BrDale\",\"BrkSide\",\"ClearCr\",\"CollgCr\",\"Crawfor\",\"Edwards\",\"Gilbert\",\"IDOTRR\",\"MeadowV\",\"Mitchel\",\"Names\",\"NoRidge\",\"NPkVill\",\"NridgHt\",\"NWAmes\",\"OldTown\",\"SWISU\",\"Sawyer\",\"SawyerW\",\"Somerst\",\"StoneBr\",\"Timber\",\"Veenker\"],\n",
    "    \"condition1_classes\"        :      [\"Artery\",\"Feedr\",\"Norm\",\"RRNn\",\"RRAn\",\"PosN\",\"PosA\",\"RRNe\",\"RRAe\", \"NAmes\"],\n",
    "    \"condition2_classes\"        :      [\"Artery\",\"Feedr\",\"Norm\",\"RRNn\",\"RRAn\",\"PosN\",\"PosA\",\"RRNe\",\"RRAe\", \"NAmes\"],\n",
    "    \"bldgtype_classes\"          :      [\"1Fam\",\"2FmCon\",\"Duplx\",\"TwnhsE\",\"TwnhsI\", \"NAmes\"],\n",
    "    \"housestyle_classes\"        :      [\"1Story\",\"1.5Fin\",\"1.5Unf\",\"2Story\",\"2.5Fin\",\"2.5Unf\",\"SFoyer\",\"SLvl\"],\n",
    "    \"roofstyle_classes\"         :      [\"Flat\",\"Gable\",\"Gambrel\",\"Hip\",\"Mansard\",\"Shed\"],\n",
    "    \"roofmatl_classes\"          :      [\"ClyTile\",\"CompShg\",\"Membran\",\"Metal\",\"Roll\",\"Tar\",\"WdShake\",\"WdShngl\", \"2fmCon\",\"Duplex\", \"Twnhs\"],\n",
    "    \"exterior1st_classes\"       :      [\"AsbShng\",\"AsphShn\",\"BrkComm\",\"BrkFace\",\"CBlock\",\"CemntBd\",\"HdBoard\",\"ImStucc\",\"MetalSd\",\"Other\",\"Plywood\",\"PreCast\",\"Stone\",\"Stucco\",\"VinylSd\",\"Wd Sdng\",\"WdShing\"],\n",
    "    \"exterior2nd_classes\"       :      [\"AsbShng\",\"AsphShn\",\"BrkComm\",\"BrkFace\",\"CBlock\",\"CemntBd\",\"HdBoard\",\"ImStucc\",\"MetalSd\",\"Other\",\"Plywood\",\"PreCast\",\"Stone\",\"Stucco\",\"VinylSd\",\"Wd Sdng\",\"WdShing\"],\n",
    "    \"masvnrtype_classes\"        :      [\"BrkCmn\",\"BrkFace\",\"CBlock\",\"None\",\"Stone\"],\n",
    "    \"exterqual_classes\"         :      [\"Ex\",\"Gd\",\"TA\",\"Fa\",\"Po\"],\n",
    "    \"extercond_classes\"         :      [\"Ex\",\"Gd\",\"TA\",\"Fa\",\"Po\"],\n",
    "    \"foundation_classes\"        :      [\"BrkTil\",\"CBlock\",\"PConc\",\"Slab\",\"Stone\",\"Wood\"],\n",
    "    \"bsmtqual_classes\"          :      [\"Ex\",\"Gd\",\"TA\",\"Fa\",\"Po\",\"NA\", \"Tar&Grv\"],\n",
    "    \"bsmtcond_classes\"          :      [\"Ex\",\"Gd\",\"TA\",\"Fa\",\"Po\",\"NA\"],\n",
    "    \"bsmtexposure_classes\"      :      [\"Gd\",\"Av\",\"Mn\",\"No\",\"NA\", \"Wd Shng\", \"CmentBd\", \"Brk Cmn\"],\n",
    "    \"bsmtfintype1_classes\"      :      [\"GLQ\",\"ALQ\",\"BLQ\",\"Rec\",\"LwQ\",\"Unf\",\"NA\"],\n",
    "    \"bsmtfintype2_classes\"      :      [\"GLQ\",\"ALQ\",\"BLQ\",\"Rec\",\"LwQ\",\"Unf\",\"NA\"],\n",
    "    \"heating_classes\"           :      [\"Floor\",\"GasA\",\"GasW\",\"Grav\",\"OthW\",\"Wall\"],\n",
    "    \"heatingqc_classes\"         :      [\"Ex\",\"Gd\",\"TA\",\"Fa\",\"Po\"],\n",
    "    \"centralair_classes\"        :      [\"N\", \"Y\"],\n",
    "    \"electrical_classes\"        :      [\"SBrkr\",\"FuseA\",\"FuseF\",\"FuseP\",\"Mix\"],\n",
    "    \"kitchenqual_classes\"       :      [\"Ex\",\"Gd\",\"TA\",\"Fa\",\"Po\"],\n",
    "    \"functional_classes\"        :      [\"Typ\",\"Min1\",\"Min2\",\"Mod\",\"Maj1\",\"Maj2\",\"Sev\",\"Sal\"],\n",
    "    \"fireplacequ_classes\"       :      [\"Ex\",\"Gd\",\"TA\",\"Fa\",\"Po\",\"NA\"],\n",
    "    \"garagetype_classes\"        :      [\"2Types\",\"Attchd\",\"Basment\",\"BuiltIn\",\"CarPort\",\"Detchd\",\"NA\"],\n",
    "    \"garagefinish_classes\"      :      [\"Fin\",\"RFn\",\"Unf\",\"NA\"],\n",
    "    \"garagequal_classes\"        :      [\"Ex\",\"Gd\",\"TA\",\"Fa\",\"Po\",\"NA\"],\n",
    "    \"garagecond_classes\"        :      [\"Ex\",\"Gd\",\"TA\",\"Fa\",\"Po\",\"NA\"],\n",
    "    \"paveddrive_classes\"        :      [\"Y\",\"P\",\"N\"],\n",
    "    \"poolqc_classes\"            :      [\"Ex\",\"Gd\",\"TA\",\"Fa\",\"NA\"],\n",
    "    \"fence_classes\"             :      [\"GdPrv\",\"MnPrv\",\"GdWo\",\"MnWw\",\"NA\"],\n",
    "    \"miscfeature_classes\"       :      [\"Elev\",\"Gar2\",\"Othr\",\"Shed\",\"TenC\",\"NA\"],\n",
    "    \"saletype_classes\"          :      [\"WD\",\"CWD\",\"VWD\",\"New\",\"COD\",\"Con\",\"ConLw\",\"ConLI\",\"ConLD\",\"Oth\"],\n",
    "    \"salecondition_classes\"     :      [\"Normal\",\"Abnorml\",\"AdjLand\",\"Alloca\",\"Family\",\"Partial\"]\n",
    "}\n",
    "\n",
    "enumerate = [1,2,3,4,5,6,7,8,9,10,11,12,13,14,15,16,17,18,19,20,21,22,23,24,25,26,27,28,29,30,31,32,33,34,35,36,37,38,39,40,41,42,43,44,45,46,47,48,49,50]\n",
    "for key in classes:\n",
    "    for i,j in zip(classes[key], enumerate):\n",
    "        train_csv = train_csv.mask(train_csv == i, j)\n",
    "        test_csv = test_csv.mask(test_csv == i, j)\n",
    "\n",
    "\n",
    "print(\"train_csv\")\n",
    "print(train_csv)\n",
    "print(\"test_csv\")\n",
    "print(test_csv)"
   ]
  },
  {
   "cell_type": "code",
   "execution_count": 86,
   "metadata": {},
   "outputs": [
    {
     "name": "stdout",
     "output_type": "stream",
     "text": [
      "[208500 181500 223500 ... 266500 142125 147500]\n",
      "[[60 6 65.0 ... 2008 1 1]\n",
      " [20 6 80.0 ... 2007 1 1]\n",
      " [60 6 68.0 ... 2008 1 1]\n",
      " ...\n",
      " [70 6 66.0 ... 2010 1 1]\n",
      " [20 6 68.0 ... 2010 1 1]\n",
      " [20 6 75.0 ... 2008 1 1]]\n"
     ]
    }
   ],
   "source": [
    "## Split x and y\n",
    "train_x = train_csv.drop(\"SalePrice\", axis=1)\n",
    "train_x = train_x.drop(\"Id\", axis=1).values\n",
    "train_y = train_csv[\"SalePrice\"].values\n",
    "test_x = test_csv.drop(\"Id\", axis=1).values\n",
    "print(train_y)\n",
    "print(train_x)"
   ]
  },
  {
   "cell_type": "code",
   "execution_count": 89,
   "metadata": {},
   "outputs": [
    {
     "name": "stdout",
     "output_type": "stream",
     "text": [
      "[[0.073374963537448 -0.1301749860091917 0.21287719636432456 ...\n",
      "  0.138777488949759 -0.3584490595099571 -0.3947855646830355]\n",
      " [-0.8725627562389244 -0.1301749860091917 0.6457472613948453 ...\n",
      "  -0.6144386220786724 -0.3584490595099571 -0.3947855646830355]\n",
      " [0.073374963537448 -0.1301749860091917 0.29945120937042863 ...\n",
      "  0.138777488949759 -0.3584490595099571 -0.3947855646830355]\n",
      " ...\n",
      " [0.3098593934815411 -0.1301749860091917 0.24173520069969262 ...\n",
      "  1.6452097110066217 -0.3584490595099571 -0.3947855646830355]\n",
      " [-0.8725627562389244 -0.1301749860091917 0.29945120937042863 ...\n",
      "  1.6452097110066217 -0.3584490595099571 -0.3947855646830355]\n",
      " [-0.8725627562389244 -0.1301749860091917 0.5014572397180049 ...\n",
      "  0.138777488949759 -0.3584490595099571 -0.3947855646830355]]\n",
      "[[20.00000000000003 -1.1048184710010902 0.6457472613948453 ...\n",
      "  1.6452097110066217 -0.3584490595099571 -0.3947855646830355]\n",
      " [20.00000000000003 -0.1301749860091917 0.6746052657302133 ...\n",
      "  1.6452097110066217 -0.3584490595099571 -0.3947855646830355]\n",
      " [60.00000000000008 -0.1301749860091917 0.47259923538263693 ...\n",
      "  1.6452097110066217 -0.3584490595099571 -0.3947855646830355]\n",
      " ...\n",
      " [20.00000000000003 -0.1301749860091917 2.954387608224289 ...\n",
      "  -1.3676547331071036 -0.3584490595099571 0.2833166993607671]\n",
      " [85.00000000000011 -0.1301749860091917 0.12630318335822044 ...\n",
      "  -1.3676547331071036 -0.3584490595099571 -0.3947855646830355]\n",
      " [60.00000000000008 -0.1301749860091917 0.47259923538263693 ...\n",
      "  -1.3676547331071036 -0.3584490595099571 -0.3947855646830355]]\n"
     ]
    }
   ],
   "source": [
    "means = []\n",
    "stds = []\n",
    "\n",
    "for i in range(len(train_x[0])):\n",
    "    means.append(np.mean(train_x[:,i]))\n",
    "    stds.append(np.std(train_x[:,i]))\n",
    "\n",
    "for i in range(len(train_x[0])):\n",
    "    train_x[:,i] = (train_x[:,i] - means[i]) / stds[i]\n",
    "    test_x[:,i] = (test_x[:,i] - means[i]) / stds[i]\n",
    "\n",
    "print(train_x)\n",
    "print(test_x)\n"
   ]
  },
  {
   "cell_type": "code",
   "execution_count": 99,
   "metadata": {},
   "outputs": [],
   "source": [
    "pca = sklearn.decomposition.PCA(n_components=79)\n",
    "\n",
    "x_train = pca.fit_transform(train_x)\n",
    "x_test = pca.transform(test_x)"
   ]
  },
  {
   "cell_type": "code",
   "execution_count": 101,
   "metadata": {},
   "outputs": [
    {
     "name": "stdout",
     "output_type": "stream",
     "text": [
      "[0.12959398 0.18123149 0.23182658 ... 1.         1.         1.        ]\n"
     ]
    },
    {
     "data": {
      "image/png": "[encoded data removed]",
      "text/plain": [
       "<Figure size 1000x1000 with 2 Axes>"
      ]
     },
     "metadata": {},
     "output_type": "display_data"
    }
   ],
   "source": [
    "singular_values = pca.singular_values_\n",
    "explained_variance_ratio = pca.explained_variance_ratio_\n",
    "\n",
    "cumulative_explained_variance_ratio = np.cumsum(explained_variance_ratio)\n",
    "print(cumulative_explained_variance_ratio)\n",
    "\n",
    "# plotting the singular values and the histogram of the explained varainces\n",
    "fig = plt.figure(figsize=(10,10))\n",
    "plt.subplot(211)\n",
    "plt.stem(singular_values)\n",
    "# plt.tick_params(axis='x', which='both', bottom=False, top=False, labelbottom=False)\n",
    "plt.xticks(np.arange(0,len(singular_values),1))\n",
    "plt.title(\"Singular Values\")\n",
    "plt.ylabel(\"Value\")\n",
    "plt.xlabel(\"Singular value index\")\n",
    "plt.subplot(212)\n",
    "plt.bar(np.arange(0,len(explained_variance_ratio[:]),1), explained_variance_ratio[:], label=\"Individual Variance\")\n",
    "plt.step(np.arange(0,len(cumulative_explained_variance_ratio[:]),1),cumulative_explained_variance_ratio[:], label=\"Cumulative Variance\", color='r')\n",
    "# plt.xticks([0,1,2,3,4])\n",
    "plt.title(\"Variance\")\n",
    "plt.ylabel(\"Explained variance ratio [%]\")\n",
    "plt.xlabel(\"Principal component index\")\n",
    "plt.legend()\n",
    "plt.ylim((0,1))\n",
    "fig.tight_layout(pad=2)"
   ]
  },
  {
   "cell_type": "markdown",
   "metadata": {},
   "source": [
    "# N. References\n",
    "\n",
    "- Predicting House Prices (Keras - ANN), Tomas Mantero, https://www.kaggle.com/code/tomasmantero/predicting-house-prices-keras-ann/notebook\n",
    "- "
   ]
  }
 ],
 "metadata": {
  "kernelspec": {
   "display_name": "Python 3",
   "language": "python",
   "name": "python3"
  },
  "language_info": {
   "codemirror_mode": {
    "name": "ipython",
    "version": 3
   },
   "file_extension": ".py",
   "mimetype": "text/x-python",
   "name": "python",
   "nbconvert_exporter": "python",
   "pygments_lexer": "ipython3",
   "version": "3.11.9"
  }
 },
 "nbformat": 4,
 "nbformat_minor": 2
}
