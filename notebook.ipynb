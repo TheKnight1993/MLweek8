{
 "cells": [
  {
   "cell_type": "code",
   "execution_count": 9,
   "metadata": {},
   "outputs": [
    {
     "name": "stdout",
     "output_type": "stream",
     "text": [
      "Collecting scikit-learn\n",
      "  Downloading scikit_learn-1.4.2-cp311-cp311-win_amd64.whl.metadata (11 kB)\n",
      "Requirement already satisfied: numpy>=1.19.5 in c:\\users\\mathi\\appdata\\local\\programs\\python\\python311\\lib\\site-packages (from scikit-learn) (1.24.2)\n",
      "Requirement already satisfied: scipy>=1.6.0 in c:\\users\\mathi\\appdata\\local\\programs\\python\\python311\\lib\\site-packages (from scikit-learn) (1.10.1)\n",
      "Collecting joblib>=1.2.0 (from scikit-learn)\n",
      "  Downloading joblib-1.4.0-py3-none-any.whl.metadata (5.4 kB)\n",
      "Collecting threadpoolctl>=2.0.0 (from scikit-learn)\n",
      "  Downloading threadpoolctl-3.4.0-py3-none-any.whl.metadata (13 kB)\n",
      "Downloading scikit_learn-1.4.2-cp311-cp311-win_amd64.whl (10.6 MB)\n",
      "   ---------------------------------------- 0.0/10.6 MB ? eta -:--:--\n",
      "   ---------------------------------------- 0.1/10.6 MB 3.6 MB/s eta 0:00:03\n",
      "   - -------------------------------------- 0.5/10.6 MB 6.6 MB/s eta 0:00:02\n",
      "   --- ------------------------------------ 1.0/10.6 MB 7.8 MB/s eta 0:00:02\n",
      "   ----- ---------------------------------- 1.5/10.6 MB 8.8 MB/s eta 0:00:02\n",
      "   ------- -------------------------------- 2.1/10.6 MB 9.5 MB/s eta 0:00:01\n",
      "   ---------- ----------------------------- 2.7/10.6 MB 10.1 MB/s eta 0:00:01\n",
      "   ------------ --------------------------- 3.3/10.6 MB 10.5 MB/s eta 0:00:01\n",
      "   -------------- ------------------------- 3.9/10.6 MB 10.7 MB/s eta 0:00:01\n",
      "   ---------------- ----------------------- 4.4/10.6 MB 10.8 MB/s eta 0:00:01\n",
      "   ------------------ --------------------- 5.0/10.6 MB 10.6 MB/s eta 0:00:01\n",
      "   --------------------- ------------------ 5.6/10.6 MB 10.8 MB/s eta 0:00:01\n",
      "   ----------------------- ---------------- 6.2/10.6 MB 11.0 MB/s eta 0:00:01\n",
      "   ------------------------- -------------- 6.8/10.6 MB 11.4 MB/s eta 0:00:01\n",
      "   --------------------------- ------------ 7.4/10.6 MB 11.2 MB/s eta 0:00:01\n",
      "   ----------------------------- ---------- 7.9/10.6 MB 11.5 MB/s eta 0:00:01\n",
      "   ------------------------------ --------- 8.2/10.6 MB 11.1 MB/s eta 0:00:01\n",
      "   -------------------------------- ------- 8.7/10.6 MB 10.9 MB/s eta 0:00:01\n",
      "   ---------------------------------- ----- 9.3/10.6 MB 11.0 MB/s eta 0:00:01\n",
      "   ------------------------------------ --- 9.8/10.6 MB 11.2 MB/s eta 0:00:01\n",
      "   -------------------------------------- - 10.3/10.6 MB 11.5 MB/s eta 0:00:01\n",
      "   ---------------------------------------  10.6/10.6 MB 11.5 MB/s eta 0:00:01\n",
      "   ---------------------------------------  10.6/10.6 MB 11.5 MB/s eta 0:00:01\n",
      "   ---------------------------------------- 10.6/10.6 MB 10.6 MB/s eta 0:00:00\n",
      "Downloading joblib-1.4.0-py3-none-any.whl (301 kB)\n",
      "   ---------------------------------------- 0.0/301.2 kB ? eta -:--:--\n",
      "   --------------------------------------  297.0/301.2 kB 17.9 MB/s eta 0:00:01\n",
      "   ---------------------------------------- 301.2/301.2 kB 6.2 MB/s eta 0:00:00\n",
      "Downloading threadpoolctl-3.4.0-py3-none-any.whl (17 kB)\n",
      "Installing collected packages: threadpoolctl, joblib, scikit-learn\n",
      "Successfully installed joblib-1.4.0 scikit-learn-1.4.2 threadpoolctl-3.4.0\n",
      "Note: you may need to restart the kernel to use updated packages.\n"
     ]
    },
    {
     "name": "stderr",
     "output_type": "stream",
     "text": [
      "DEPRECATION: teroshdl 2.1.2 has a non-standard dependency specifier yowasp-yosys>=0.8.*. pip 24.1 will enforce this behaviour change. A possible replacement is to upgrade to a newer version of teroshdl or contact the author to suggest that they release a version with a conforming dependency specifiers. Discussion can be found at https://github.com/pypa/pip/issues/12063\n"
     ]
    }
   ],
   "source": [
    "#%pip install Pandas\n",
    "#%pip install keras\n",
    "#%pip install tensorflow\n",
    "#%pip install scikit-learn"
   ]
  },
  {
   "cell_type": "code",
   "execution_count": 10,
   "metadata": {},
   "outputs": [],
   "source": [
    "import os\n",
    "import matplotlib.pyplot as plt\n",
    "import pandas as pd\n",
    "import numpy as np\n",
    "import scipy as sp\n",
    "import keras\n",
    "import sklearn.decomposition\n",
    "import sklearn.model_selection\n",
    "import sklearn.preprocessing\n",
    "import sklearn.linear_model\n",
    "import sklearn.metrics\n"
   ]
  },
  {
   "cell_type": "markdown",
   "metadata": {},
   "source": [
    "- [1. Introduction](#1-introduction)\n",
    "\n"
   ]
  },
  {
   "cell_type": "markdown",
   "metadata": {},
   "source": [
    "# 1. Introduction\n",
    "\n",
    "Predicting for how much houses will sell will help current and prospective homeowners navigate the cluttered landscape of real estate. "
   ]
  },
  {
   "cell_type": "markdown",
   "metadata": {},
   "source": [
    "# 2. Dataset\n",
    "\n",
    "The dataset provided houses a lot of different parameters on which the price of a house can depend. Just to give a couple examples with their usual impact on the house price from general knowledge and experience:\n",
    "\n",
    "- LotArea: the area of the land on which a house stands. In general the higher this number the higher the price.\n",
    "- Bedroom: number of bedrooms above ground. In general the higher the number of bedrooms the higher the price.\n",
    "\n",
    "There are a lot more prameters that are contained in the dataset. For more detail on this consult the data_description.txt file. "
   ]
  },
  {
   "cell_type": "markdown",
   "metadata": {},
   "source": [
    "# 3. Analysing the dataset\n",
    "\n",
    "For this we first have to open the csv files that contain the data. In here we see that there are some columns that contain numeric data and some that do not. There are also some empty values. Before any models can be trained on the dataset we have to format it such that there are solely numeric values. In the data_description.txt file all the different kinds of non-numeric values can be found. "
   ]
  },
  {
   "cell_type": "code",
   "execution_count": 11,
   "metadata": {},
   "outputs": [
    {
     "name": "stdout",
     "output_type": "stream",
     "text": [
      "   Id  MSSubClass MSZoning  LotFrontage  LotArea Street Alley LotShape  \\\n",
      "0   1          60       RL         65.0     8450   Pave   NaN      Reg   \n",
      "1   2          20       RL         80.0     9600   Pave   NaN      Reg   \n",
      "2   3          60       RL         68.0    11250   Pave   NaN      IR1   \n",
      "3   4          70       RL         60.0     9550   Pave   NaN      IR1   \n",
      "4   5          60       RL         84.0    14260   Pave   NaN      IR1   \n",
      "\n",
      "  LandContour Utilities  ... PoolArea PoolQC Fence MiscFeature MiscVal MoSold  \\\n",
      "0         Lvl    AllPub  ...        0    NaN   NaN         NaN       0      2   \n",
      "1         Lvl    AllPub  ...        0    NaN   NaN         NaN       0      5   \n",
      "2         Lvl    AllPub  ...        0    NaN   NaN         NaN       0      9   \n",
      "3         Lvl    AllPub  ...        0    NaN   NaN         NaN       0      2   \n",
      "4         Lvl    AllPub  ...        0    NaN   NaN         NaN       0     12   \n",
      "\n",
      "  YrSold  SaleType  SaleCondition  SalePrice  \n",
      "0   2008        WD         Normal     208500  \n",
      "1   2007        WD         Normal     181500  \n",
      "2   2008        WD         Normal     223500  \n",
      "3   2006        WD        Abnorml     140000  \n",
      "4   2008        WD         Normal     250000  \n",
      "\n",
      "[5 rows x 81 columns]\n",
      "['Id' 'MSSubClass' 'MSZoning' 'LotFrontage' 'LotArea' 'Street' 'Alley'\n",
      " 'LotShape' 'LandContour' 'Utilities' 'LotConfig' 'LandSlope'\n",
      " 'Neighborhood' 'Condition1' 'Condition2' 'BldgType' 'HouseStyle'\n",
      " 'OverallQual' 'OverallCond' 'YearBuilt' 'YearRemodAdd' 'RoofStyle'\n",
      " 'RoofMatl' 'Exterior1st' 'Exterior2nd' 'MasVnrType' 'MasVnrArea'\n",
      " 'ExterQual' 'ExterCond' 'Foundation' 'BsmtQual' 'BsmtCond' 'BsmtExposure'\n",
      " 'BsmtFinType1' 'BsmtFinSF1' 'BsmtFinType2' 'BsmtFinSF2' 'BsmtUnfSF'\n",
      " 'TotalBsmtSF' 'Heating' 'HeatingQC' 'CentralAir' 'Electrical' '1stFlrSF'\n",
      " '2ndFlrSF' 'LowQualFinSF' 'GrLivArea' 'BsmtFullBath' 'BsmtHalfBath'\n",
      " 'FullBath' 'HalfBath' 'BedroomAbvGr' 'KitchenAbvGr' 'KitchenQual'\n",
      " 'TotRmsAbvGrd' 'Functional' 'Fireplaces' 'FireplaceQu' 'GarageType'\n",
      " 'GarageYrBlt' 'GarageFinish' 'GarageCars' 'GarageArea' 'GarageQual'\n",
      " 'GarageCond' 'PavedDrive' 'WoodDeckSF' 'OpenPorchSF' 'EnclosedPorch'\n",
      " '3SsnPorch' 'ScreenPorch' 'PoolArea' 'PoolQC' 'Fence' 'MiscFeature'\n",
      " 'MiscVal' 'MoSold' 'YrSold' 'SaleType' 'SaleCondition' 'SalePrice']\n"
     ]
    }
   ],
   "source": [
    "# accessing the csv files\n",
    "\n",
    "train_csv = pd.read_csv(\"./house-prices-advanced-regression-techniques/train.csv\")\n",
    "test_csv = pd.read_csv(\"./house-prices-advanced-regression-techniques/test.csv\")\n",
    "\n",
    "data_fields = train_csv.columns.values\n",
    "\n",
    "print(train_csv.head())\n",
    "print(data_fields)"
   ]
  },
  {
   "cell_type": "code",
   "execution_count": 1,
   "metadata": {},
   "outputs": [
    {
     "ename": "SyntaxError",
     "evalue": "'{' was never closed (2543416734.py, line 8)",
     "output_type": "error",
     "traceback": [
      "\u001b[1;36m  Cell \u001b[1;32mIn[1], line 8\u001b[1;36m\u001b[0m\n\u001b[1;33m    classes = {\u001b[0m\n\u001b[1;37m              ^\u001b[0m\n\u001b[1;31mSyntaxError\u001b[0m\u001b[1;31m:\u001b[0m '{' was never closed\n"
     ]
    }
   ],
   "source": [
    "# formatting the data\n",
    "\n",
    "# change the NaN values to zero\n",
    "\n",
    "train_csv = train_csv.mask(pd.isna(train_csv), 0)\n",
    "test_csv = test_csv.mask(pd.isna(test_csv), 0)\n",
    "\n",
    "classes = { \n",
    "    \"mszoning_classes\"           :     [\"A\",\"C\",\"FV\",\"I\",\"RH\",\"RL\",\"RP\",\"RM\"],\n",
    "    \"street_classes\"            :      [\"Grvl\",\"Pave\"],\n",
    "    \"alley_classes\"             :      [\"Grvl\",\"Pave\",\"NA\"],\n",
    "    \"lotshape_classes\"          :      [\"Reg\",\"IR1\",\"IR2\",\"IR3\"],\n",
    "    \"landcontour_classes\"       :      [\"Lvl\",\"Bnk\",\"HLS\",\"Low\"],\n",
    "    \"utilities_classes\"         :      [\"AllPub\",\"NoSewr\",\"NoSeWa\",\"ELO\"],\n",
    "    \"lotconfig_classes\"         :      [\"Inside\",\"Corner\",\"CulDSac\",\"FR2\",\"FR3\"],\n",
    "    \"landslope_classes\"         :      [\"Gtl\",\"Mod\",\"Sev\"],\n",
    "    \"neighborhood_classes\"      :      [\"Blmngtn\",\"Blueste\",\"BrDale\",\"BrkSide\",\"ClearCr\",\"CollgCr\",\"Crawfor\",\"Edwards\",\"Gilbert\",\"IDOTRR\",\"MeadowV\",\"Mitchel\",\"Names\",\"NoRidge\",\"NPkVill\",\"NridgHt\",\"NWAmes\",\"OldTown\",\"SWISU\",\"Sawyer\",\"SawyerW\",\"Somerst\",\"StoneBr\",\"Timber\",\"Veenker\"],\n",
    "    \"condition1_classes\"        :      [\"Artery\",\"Feedr\",\"Norm\",\"RRNn\",\"RRAn\",\"PosN\",\"PosA\",\"RRNe\",\"RRAe\"],\n",
    "    \"condition2_classes\"        :      [\"Artery\",\"Feedr\",\"Norm\",\"RRNn\",\"RRAn\",\"PosN\",\"PosA\",\"RRNe\",\"RRAe\"],\n",
    "    \"bldgtype_classes\"          :      [\"1Fam\",\"2FmCon\",\"Duplx\",\"TwnhsE\",\"TwnhsI\"],\n",
    "    \"housestyle_classes\"        :      [\"1Story\",\"1.5Fin\",\"1.5Unf\",\"2Story\",\"2.5Fin\",\"2.5Unf\",\"SFoyer\",\"SLvl\"],\n",
    "    \"roofstyle_classes\"         :      [\"Flat\",\"Gable\",\"Gambrel\",\"Hip\",\"Mansard\",\"Shed\"],\n",
    "    \"roofmatl_classes\"          :      [\"ClyTile\",\"CompShg\",\"Membran\",\"Metal\",\"Roll\",\"Tar\",\"WdShake\",\"WdShngl\"],\n",
    "    \"exterior1st_classes\"       :      [\"AsbShng\",\"AsphShn\",\"BrkComm\",\"BrkFace\",\"CBlock\",\"CemntBd\",\"HdBoard\",\"ImStucc\",\"MetalSd\",\"Other\",\"Plywood\",\"PreCast\",\"Stone\",\"Stucco\",\"VinylSd\",\"Wd Sdng\",\"WdShing\"],\n",
    "    \"exterior2nd_classes\"       :      [\"AsbShng\",\"AsphShn\",\"BrkComm\",\"BrkFace\",\"CBlock\",\"CemntBd\",\"HdBoard\",\"ImStucc\",\"MetalSd\",\"Other\",\"Plywood\",\"PreCast\",\"Stone\",\"Stucco\",\"VinylSd\",\"Wd Sdng\",\"WdShing\"],\n",
    "    \"masvnrtype_classes\"        :      [\"BrkCmn\",\"BrkFace\",\"CBlock\",\"None\",\"Stone\"],\n",
    "    \"exterqual_classes\"         :      [\"Ex\",\"Gd\",\"TA\",\"Fa\",\"Po\"],\n",
    "    \"extercond_classes\"         :      [\"Ex\",\"Gd\",\"TA\",\"Fa\",\"Po\"],\n",
    "    \"foundation_classes\"        :      [\"BrkTil\",\"CBlock\",\"PConc\",\"Slab\",\"Stone\",\"Wood\"],\n",
    "    \"bsmtqual_classes\"          :      [\"Ex\",\"Gd\",\"TA\",\"Fa\",\"Po\",\"NA\"],\n",
    "    \"bsmtcond_classes\"          :      [\"Ex\",\"Gd\",\"TA\",\"Fa\",\"Po\",\"NA\"],\n",
    "    \"bsmtexposure_classes\"      :      [\"Gd\",\"Av\",\"Mn\",\"No\",\"NA\"],\n",
    "    \"bsmtfintype1_classes\"      :      [\"GLQ\",\"ALQ\",\"BLQ\",\"Rec\",\"LwQ\",\"Unf\",\"NA\"],\n",
    "    \"bsmtfintype2_classes\"      :      [\"GLQ\",\"ALQ\",\"BLQ\",\"Rec\",\"LwQ\",\"Unf\",\"NA\"],\n",
    "    \"heating_classes\"           :      [\"Floor\",\"GasA\",\"GasW\",\"Grav\",\"OthW\",\"Wall\"],\n",
    "    \"heatingqc_classes\"         :      [\"Ex\",\"Gd\",\"TA\",\"Fa\",\"Po\"],\n",
    "    \"centralair_classes\"        :      [\"N\", \"Y\"],\n",
    "    \"electrical_classes\"        :      [\"SBrkr\",\"FuseA\",\"FuseF\",\"FuseP\",\"Mix\"],\n",
    "    \"kitchenqual_classes\"       :      [\"Ex\",\"Gd\",\"TA\",\"Fa\",\"Po\"],\n",
    "    \"functional_classes\"        :      [\"Typ\",\"Min1\",\"Min2\",\"Mod\",\"Maj1\",\"Maj2\",\"Sev\",\"Sal\"],\n",
    "    \"fireplacequ_classes\"       :      [\"Ex\",\"Gd\",\"TA\",\"Fa\",\"Po\",\"NA\"],\n",
    "    \"garagetype_classes\"        :      [\"2Types\",\"Attchd\",\"Basment\",\"BuiltIn\",\"CarPort\",\"Detchd\",\"NA\"],\n",
    "    \"garagefinish_classes\"      :      [\"Fin\",\"RFn\",\"Unf\",\"NA\"],\n",
    "    \"garagequal_classes\"        :      [\"Ex\",\"Gd\",\"TA\",\"Fa\",\"Po\",\"NA\"],\n",
    "    \"garagecond_classes\"        :      [\"Ex\",\"Gd\",\"TA\",\"Fa\",\"Po\",\"NA\"],\n",
    "    \"paveddrive_classes\"        :      [\"Y\",\"P\",\"N\"],\n",
    "    \"poolqc_classes\"            :      [\"Ex\",\"Gd\",\"TA\",\"Fa\",\"NA\"],\n",
    "    \"fence_classes\"             :      [\"GdPrv\",\"MnPrv\",\"GdWo\",\"MnWw\",\"NA\"],\n",
    "    \"miscfeature_classes\"       :      [\"Elev\",\"Gar2\",\"Othr\",\"Shed\",\"TenC\",\"NA\"],\n",
    "    \"saletype_classes\"          :      [\"WD\",\"CWD\",\"VWD\",\"New\",\"COD\",\"Con\",\"ConLw\",\"ConLI\",\"ConLD\",\"Oth\"],\n",
    "    \"salecondition_classes\"     :      [\"Normal\",\"Abnorml\",\"AdjLand\",\"Alloca\",\"Family\",\"Partial\"]\n",
    "}\n",
    "\n",
    "enumerate = np.linspace(0,100,100)\n",
    "for key in classes:\n",
    "    for i,j in zip(classes[key], enumerate):\n",
    "        train_csv = train_csv.mask(train_csv == i, j)\n",
    "\n",
    "\n",
    "    \n",
    "print(train_csv)\n",
    "print(test_csv)"
   ]
  },
  {
   "cell_type": "markdown",
   "metadata": {},
   "source": [
    "# N. References\n",
    "\n",
    "- Predicting House Prices (Keras - ANN), Tomas Mantero, https://www.kaggle.com/code/tomasmantero/predicting-house-prices-keras-ann/notebook\n",
    "- "
   ]
  }
 ],
 "metadata": {
  "kernelspec": {
   "display_name": "Python 3",
   "language": "python",
   "name": "python3"
  },
  "language_info": {
   "codemirror_mode": {
    "name": "ipython",
    "version": 3
   },
   "file_extension": ".py",
   "mimetype": "text/x-python",
   "name": "python",
   "nbconvert_exporter": "python",
   "pygments_lexer": "ipython3",
   "version": "3.11.9"
  }
 },
 "nbformat": 4,
 "nbformat_minor": 2
}
