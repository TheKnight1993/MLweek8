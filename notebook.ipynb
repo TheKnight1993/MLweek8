{
 "cells": [
  {
   "cell_type": "code",
   "execution_count": 1,
   "metadata": {},
   "outputs": [],
   "source": [
    "#%pip install Pandas\n",
    "#%pip install keras\n",
    "#%pip install tensorflow\n",
    "#%pip install scikit-learn"
   ]
  },
  {
   "cell_type": "code",
   "execution_count": 2,
   "metadata": {},
   "outputs": [],
   "source": [
    "import os\n",
    "import matplotlib.pyplot as plt\n",
    "import pandas as pd\n",
    "import numpy as np\n",
    "import scipy as sp\n",
    "import seaborn as sns\n",
    "import keras\n",
    "import sklearn.decomposition\n",
    "import sklearn.model_selection\n",
    "import sklearn.preprocessing\n",
    "import sklearn.linear_model\n",
    "import sklearn.metrics\n"
   ]
  },
  {
   "cell_type": "markdown",
   "metadata": {},
   "source": [
    "Contents \n",
    "- [1. Introduction](#1-introduction)\n",
    "- [2. Dataset and initial inspection](#2-dataset-and-initial-inspection)\n",
    "- [3. Analysing and formatting the dataset](#3-analysing-and-formatting-the-dataset)\n",
    "  - [3.1 Formatting the dataset](#3-1-formatting-the-dataset)\n",
    "  - [3.2 Analysing the dataset](#3-2-analysing-the-dataset)\n",
    "- [1. Introduction](#1-introduction)\n",
    "\n"
   ]
  },
  {
   "cell_type": "markdown",
   "metadata": {},
   "source": [
    "# 1. Introduction\n",
    "\n",
    "Predicting for how much houses will sell will help current and prospective homeowners navigate the cluttered landscape of real estate. In this report we will explore how the dataset is structured, how to format the dataset to allow us to fit a model to it, and the different kinds of models we can fit to the dataset. "
   ]
  },
  {
   "cell_type": "markdown",
   "metadata": {},
   "source": [
    "# 2. Dataset and initial inspection\n",
    "\n",
    "The dataset provided houses a lot of different parameters on which the price of a house can depend. Just to give a couple examples with their usual impact on the house price from general knowledge and experience:\n",
    "\n",
    "- LotArea: the area of the land on which a house stands. In general the higher this number the higher the price.\n",
    "- Bedroom: number of bedrooms above ground. In general the higher the number of bedrooms the higher the price.\n",
    "\n",
    "There are a lot more prameters that are contained in the dataset. For more detail on this consult the data_description.txt file. \n",
    "\n",
    "The total of 79 explanatory variables quantify almost all physical properties of the houses in the dataset. These in some way try to include different human preferences in an objective manner by assessing the quality of materials and the functionality rating of the home. In the end these preferences can differ from person to person as everybody has a different eye for aesthetics. The dataset therefore should be interpreted as how it is structured, an objective assessment of the physical features of the house, and any model that is fit to it should be treated as an objective estimator for the selling price."
   ]
  },
  {
   "cell_type": "markdown",
   "metadata": {},
   "source": [
    "# 3. Analysing and formatting the dataset\n",
    "\n",
    "### 3.1 Formatting the dataset\n",
    "\n",
    "When analysing the dataset and consulting the data_description.txt file provided. One can notice that there are some non-numeric values. When importing the files through Pandas some of the values will format to NaN values. Before we are able to fit a model to the dataset we have to reformat these values to numeric values. The data_description.txt file was used to get all the different kinds of non-numeric values. A for loop is then used to assign numbers to each non-numeric value. This ensures that linear regression can be used.\n",
    "\n",
    "The for loop is primitive and ineficient, but due to the fast computer cores of today it still runs fast enough. \n",
    "\n",
    "After assigning numeric values to every data point, the entire dataset is columnwise mean normalized and split into an input feature array and an output vector."
   ]
  },
  {
   "cell_type": "code",
   "execution_count": 3,
   "metadata": {},
   "outputs": [],
   "source": [
    "np.set_printoptions(threshold=20)"
   ]
  },
  {
   "cell_type": "code",
   "execution_count": 4,
   "metadata": {},
   "outputs": [
    {
     "name": "stdout",
     "output_type": "stream",
     "text": [
      "        Id  MSSubClass MSZoning  LotFrontage  LotArea Street Alley LotShape  \\\n",
      "0        1          60       RL         65.0     8450   Pave   NaN      Reg   \n",
      "1        2          20       RL         80.0     9600   Pave   NaN      Reg   \n",
      "2        3          60       RL         68.0    11250   Pave   NaN      IR1   \n",
      "3        4          70       RL         60.0     9550   Pave   NaN      IR1   \n",
      "4        5          60       RL         84.0    14260   Pave   NaN      IR1   \n",
      "...    ...         ...      ...          ...      ...    ...   ...      ...   \n",
      "1455  1456          60       RL         62.0     7917   Pave   NaN      Reg   \n",
      "1456  1457          20       RL         85.0    13175   Pave   NaN      Reg   \n",
      "1457  1458          70       RL         66.0     9042   Pave   NaN      Reg   \n",
      "1458  1459          20       RL         68.0     9717   Pave   NaN      Reg   \n",
      "1459  1460          20       RL         75.0     9937   Pave   NaN      Reg   \n",
      "\n",
      "     LandContour Utilities  ... PoolArea PoolQC  Fence MiscFeature MiscVal  \\\n",
      "0            Lvl    AllPub  ...        0    NaN    NaN         NaN       0   \n",
      "1            Lvl    AllPub  ...        0    NaN    NaN         NaN       0   \n",
      "2            Lvl    AllPub  ...        0    NaN    NaN         NaN       0   \n",
      "3            Lvl    AllPub  ...        0    NaN    NaN         NaN       0   \n",
      "4            Lvl    AllPub  ...        0    NaN    NaN         NaN       0   \n",
      "...          ...       ...  ...      ...    ...    ...         ...     ...   \n",
      "1455         Lvl    AllPub  ...        0    NaN    NaN         NaN       0   \n",
      "1456         Lvl    AllPub  ...        0    NaN  MnPrv         NaN       0   \n",
      "1457         Lvl    AllPub  ...        0    NaN  GdPrv        Shed    2500   \n",
      "1458         Lvl    AllPub  ...        0    NaN    NaN         NaN       0   \n",
      "1459         Lvl    AllPub  ...        0    NaN    NaN         NaN       0   \n",
      "\n",
      "     MoSold YrSold  SaleType  SaleCondition  SalePrice  \n",
      "0         2   2008        WD         Normal     208500  \n",
      "1         5   2007        WD         Normal     181500  \n",
      "2         9   2008        WD         Normal     223500  \n",
      "3         2   2006        WD        Abnorml     140000  \n",
      "4        12   2008        WD         Normal     250000  \n",
      "...     ...    ...       ...            ...        ...  \n",
      "1455      8   2007        WD         Normal     175000  \n",
      "1456      2   2010        WD         Normal     210000  \n",
      "1457      5   2010        WD         Normal     266500  \n",
      "1458      4   2010        WD         Normal     142125  \n",
      "1459      6   2008        WD         Normal     147500  \n",
      "\n",
      "[1460 rows x 81 columns]\n",
      "81\n",
      "        Id  MSSubClass MSZoning  LotFrontage  LotArea Street Alley LotShape  \\\n",
      "0     1461          20       RH         80.0    11622   Pave   NaN      Reg   \n",
      "1     1462          20       RL         81.0    14267   Pave   NaN      IR1   \n",
      "2     1463          60       RL         74.0    13830   Pave   NaN      IR1   \n",
      "3     1464          60       RL         78.0     9978   Pave   NaN      IR1   \n",
      "4     1465         120       RL         43.0     5005   Pave   NaN      IR1   \n",
      "...    ...         ...      ...          ...      ...    ...   ...      ...   \n",
      "1454  2915         160       RM         21.0     1936   Pave   NaN      Reg   \n",
      "1455  2916         160       RM         21.0     1894   Pave   NaN      Reg   \n",
      "1456  2917          20       RL        160.0    20000   Pave   NaN      Reg   \n",
      "1457  2918          85       RL         62.0    10441   Pave   NaN      Reg   \n",
      "1458  2919          60       RL         74.0     9627   Pave   NaN      Reg   \n",
      "\n",
      "     LandContour Utilities  ... ScreenPorch PoolArea PoolQC  Fence  \\\n",
      "0            Lvl    AllPub  ...         120        0    NaN  MnPrv   \n",
      "1            Lvl    AllPub  ...           0        0    NaN    NaN   \n",
      "2            Lvl    AllPub  ...           0        0    NaN  MnPrv   \n",
      "3            Lvl    AllPub  ...           0        0    NaN    NaN   \n",
      "4            HLS    AllPub  ...         144        0    NaN    NaN   \n",
      "...          ...       ...  ...         ...      ...    ...    ...   \n",
      "1454         Lvl    AllPub  ...           0        0    NaN    NaN   \n",
      "1455         Lvl    AllPub  ...           0        0    NaN    NaN   \n",
      "1456         Lvl    AllPub  ...           0        0    NaN    NaN   \n",
      "1457         Lvl    AllPub  ...           0        0    NaN  MnPrv   \n",
      "1458         Lvl    AllPub  ...           0        0    NaN    NaN   \n",
      "\n",
      "     MiscFeature MiscVal MoSold  YrSold  SaleType  SaleCondition  \n",
      "0            NaN       0      6    2010        WD         Normal  \n",
      "1           Gar2   12500      6    2010        WD         Normal  \n",
      "2            NaN       0      3    2010        WD         Normal  \n",
      "3            NaN       0      6    2010        WD         Normal  \n",
      "4            NaN       0      1    2010        WD         Normal  \n",
      "...          ...     ...    ...     ...       ...            ...  \n",
      "1454         NaN       0      6    2006        WD         Normal  \n",
      "1455         NaN       0      4    2006        WD        Abnorml  \n",
      "1456         NaN       0      9    2006        WD        Abnorml  \n",
      "1457        Shed     700      7    2006        WD         Normal  \n",
      "1458         NaN       0     11    2006        WD         Normal  \n",
      "\n",
      "[1459 rows x 80 columns]\n"
     ]
    }
   ],
   "source": [
    "# accessing the csv files\n",
    "\n",
    "train_csv = pd.read_csv(\"./house-prices-advanced-regression-techniques/train.csv\")\n",
    "test_csv = pd.read_csv(\"./house-prices-advanced-regression-techniques/test.csv\")\n",
    "\n",
    "data_fields = train_csv.columns.values\n",
    "\n",
    "print(train_csv)\n",
    "print(len(data_fields))\n",
    "print(test_csv)\n"
   ]
  },
  {
   "cell_type": "code",
   "execution_count": 5,
   "metadata": {},
   "outputs": [
    {
     "name": "stdout",
     "output_type": "stream",
     "text": [
      "train_csv\n",
      "        Id  MSSubClass MSZoning  LotFrontage  LotArea Street Alley LotShape  \\\n",
      "0        1          60        6         65.0     8450      2     0        1   \n",
      "1        2          20        6         80.0     9600      2     0        1   \n",
      "2        3          60        6         68.0    11250      2     0        2   \n",
      "3        4          70        6         60.0     9550      2     0        2   \n",
      "4        5          60        6         84.0    14260      2     0        2   \n",
      "...    ...         ...      ...          ...      ...    ...   ...      ...   \n",
      "1455  1456          60        6         62.0     7917      2     0        1   \n",
      "1456  1457          20        6         85.0    13175      2     0        1   \n",
      "1457  1458          70        6         66.0     9042      2     0        1   \n",
      "1458  1459          20        6         68.0     9717      2     0        1   \n",
      "1459  1460          20        6         75.0     9937      2     0        1   \n",
      "\n",
      "     LandContour Utilities  ... PoolArea PoolQC Fence MiscFeature MiscVal  \\\n",
      "0              1         1  ...        0      0     0           0       0   \n",
      "1              1         1  ...        0      0     0           0       0   \n",
      "2              1         1  ...        0      0     0           0       0   \n",
      "3              1         1  ...        0      0     0           0       0   \n",
      "4              1         1  ...        0      0     0           0       0   \n",
      "...          ...       ...  ...      ...    ...   ...         ...     ...   \n",
      "1455           1         1  ...        0      0     0           0       0   \n",
      "1456           1         1  ...        0      0     2           0       0   \n",
      "1457           1         1  ...        0      0     1           6    2500   \n",
      "1458           1         1  ...        0      0     0           0       0   \n",
      "1459           1         1  ...        0      0     0           0       0   \n",
      "\n",
      "     MoSold YrSold  SaleType  SaleCondition  SalePrice  \n",
      "0         2   2008         1              1     208500  \n",
      "1         5   2007         1              1     181500  \n",
      "2         9   2008         1              1     223500  \n",
      "3         2   2006         1              2     140000  \n",
      "4        12   2008         1              1     250000  \n",
      "...     ...    ...       ...            ...        ...  \n",
      "1455      8   2007         1              1     175000  \n",
      "1456      2   2010         1              1     210000  \n",
      "1457      5   2010         1              1     266500  \n",
      "1458      4   2010         1              1     142125  \n",
      "1459      6   2008         1              1     147500  \n",
      "\n",
      "[1460 rows x 81 columns]\n",
      "test_csv\n",
      "        Id  MSSubClass MSZoning  LotFrontage  LotArea Street Alley LotShape  \\\n",
      "0     1461          20        5         80.0    11622      2     0        1   \n",
      "1     1462          20        6         81.0    14267      2     0        2   \n",
      "2     1463          60        6         74.0    13830      2     0        2   \n",
      "3     1464          60        6         78.0     9978      2     0        2   \n",
      "4     1465         120        6         43.0     5005      2     0        2   \n",
      "...    ...         ...      ...          ...      ...    ...   ...      ...   \n",
      "1454  2915         160        8         21.0     1936      2     0        1   \n",
      "1455  2916         160        8         21.0     1894      2     0        1   \n",
      "1456  2917          20        6        160.0    20000      2     0        1   \n",
      "1457  2918          85        6         62.0    10441      2     0        1   \n",
      "1458  2919          60        6         74.0     9627      2     0        1   \n",
      "\n",
      "     LandContour Utilities  ... ScreenPorch PoolArea PoolQC Fence MiscFeature  \\\n",
      "0              1         1  ...         120        0      0     2           0   \n",
      "1              1         1  ...           0        0      0     0           2   \n",
      "2              1         1  ...           0        0      0     2           0   \n",
      "3              1         1  ...           0        0      0     0           0   \n",
      "4              3         1  ...         144        0      0     0           0   \n",
      "...          ...       ...  ...         ...      ...    ...   ...         ...   \n",
      "1454           1         1  ...           0        0      0     0           0   \n",
      "1455           1         1  ...           0        0      0     0           0   \n",
      "1456           1         1  ...           0        0      0     0           0   \n",
      "1457           1         1  ...           0        0      0     2           6   \n",
      "1458           1         1  ...           0        0      0     0           0   \n",
      "\n",
      "     MiscVal MoSold  YrSold  SaleType  SaleCondition  \n",
      "0          0      6    2010         1              1  \n",
      "1      12500      6    2010         1              1  \n",
      "2          0      3    2010         1              1  \n",
      "3          0      6    2010         1              1  \n",
      "4          0      1    2010         1              1  \n",
      "...      ...    ...     ...       ...            ...  \n",
      "1454       0      6    2006         1              1  \n",
      "1455       0      4    2006         1              2  \n",
      "1456       0      9    2006         1              2  \n",
      "1457     700      7    2006         1              1  \n",
      "1458       0     11    2006         1              1  \n",
      "\n",
      "[1459 rows x 80 columns]\n"
     ]
    }
   ],
   "source": [
    "# formatting the data\n",
    "\n",
    "# change the NaN values to zero\n",
    "\n",
    "train_csv = train_csv.mask(pd.isna(train_csv), 0)\n",
    "test_csv = test_csv.mask(pd.isna(test_csv), 0)\n",
    "\n",
    "# uniformly change non numeric values to a numeric value\n",
    "\n",
    "classes = { \n",
    "    \"mszoning_classes\"          :     [\"A\",\"C\",\"FV\",\"I\",\"RH\",\"RL\",\"RP\",\"RM\"],\n",
    "    \"street_classes\"            :      [\"Grvl\",\"Pave\",\"C (all)\"],\n",
    "    \"alley_classes\"             :      [\"Grvl\",\"Pave\",\"NA\"],\n",
    "    \"lotshape_classes\"          :      [\"Reg\",\"IR1\",\"IR2\",\"IR3\"],\n",
    "    \"landcontour_classes\"       :      [\"Lvl\",\"Bnk\",\"HLS\",\"Low\"],\n",
    "    \"utilities_classes\"         :      [\"AllPub\",\"NoSewr\",\"NoSeWa\",\"ELO\"],\n",
    "    \"lotconfig_classes\"         :      [\"Inside\",\"Corner\",\"CulDSac\",\"FR2\",\"FR3\"],\n",
    "    \"landslope_classes\"         :      [\"Gtl\",\"Mod\",\"Sev\"],\n",
    "    \"neighborhood_classes\"      :      [\"Blmngtn\",\"Blueste\",\"BrDale\",\"BrkSide\",\"ClearCr\",\"CollgCr\",\"Crawfor\",\"Edwards\",\"Gilbert\",\"IDOTRR\",\"MeadowV\",\"Mitchel\",\"Names\",\"NoRidge\",\"NPkVill\",\"NridgHt\",\"NWAmes\",\"OldTown\",\"SWISU\",\"Sawyer\",\"SawyerW\",\"Somerst\",\"StoneBr\",\"Timber\",\"Veenker\"],\n",
    "    \"condition1_classes\"        :      [\"Artery\",\"Feedr\",\"Norm\",\"RRNn\",\"RRAn\",\"PosN\",\"PosA\",\"RRNe\",\"RRAe\", \"NAmes\"],\n",
    "    \"condition2_classes\"        :      [\"Artery\",\"Feedr\",\"Norm\",\"RRNn\",\"RRAn\",\"PosN\",\"PosA\",\"RRNe\",\"RRAe\", \"NAmes\"],\n",
    "    \"bldgtype_classes\"          :      [\"1Fam\",\"2FmCon\",\"Duplx\",\"TwnhsE\",\"TwnhsI\", \"NAmes\"],\n",
    "    \"housestyle_classes\"        :      [\"1Story\",\"1.5Fin\",\"1.5Unf\",\"2Story\",\"2.5Fin\",\"2.5Unf\",\"SFoyer\",\"SLvl\"],\n",
    "    \"roofstyle_classes\"         :      [\"Flat\",\"Gable\",\"Gambrel\",\"Hip\",\"Mansard\",\"Shed\"],\n",
    "    \"roofmatl_classes\"          :      [\"ClyTile\",\"CompShg\",\"Membran\",\"Metal\",\"Roll\",\"Tar\",\"WdShake\",\"WdShngl\", \"2fmCon\",\"Duplex\", \"Twnhs\"],\n",
    "    \"exterior1st_classes\"       :      [\"AsbShng\",\"AsphShn\",\"BrkComm\",\"BrkFace\",\"CBlock\",\"CemntBd\",\"HdBoard\",\"ImStucc\",\"MetalSd\",\"Other\",\"Plywood\",\"PreCast\",\"Stone\",\"Stucco\",\"VinylSd\",\"Wd Sdng\",\"WdShing\"],\n",
    "    \"exterior2nd_classes\"       :      [\"AsbShng\",\"AsphShn\",\"BrkComm\",\"BrkFace\",\"CBlock\",\"CemntBd\",\"HdBoard\",\"ImStucc\",\"MetalSd\",\"Other\",\"Plywood\",\"PreCast\",\"Stone\",\"Stucco\",\"VinylSd\",\"Wd Sdng\",\"WdShing\"],\n",
    "    \"masvnrtype_classes\"        :      [\"BrkCmn\",\"BrkFace\",\"CBlock\",\"None\",\"Stone\"],\n",
    "    \"exterqual_classes\"         :      [\"Ex\",\"Gd\",\"TA\",\"Fa\",\"Po\"],\n",
    "    \"extercond_classes\"         :      [\"Ex\",\"Gd\",\"TA\",\"Fa\",\"Po\"],\n",
    "    \"foundation_classes\"        :      [\"BrkTil\",\"CBlock\",\"PConc\",\"Slab\",\"Stone\",\"Wood\"],\n",
    "    \"bsmtqual_classes\"          :      [\"Ex\",\"Gd\",\"TA\",\"Fa\",\"Po\",\"NA\", \"Tar&Grv\"],\n",
    "    \"bsmtcond_classes\"          :      [\"Ex\",\"Gd\",\"TA\",\"Fa\",\"Po\",\"NA\"],\n",
    "    \"bsmtexposure_classes\"      :      [\"Gd\",\"Av\",\"Mn\",\"No\",\"NA\", \"Wd Shng\", \"CmentBd\", \"Brk Cmn\"],\n",
    "    \"bsmtfintype1_classes\"      :      [\"GLQ\",\"ALQ\",\"BLQ\",\"Rec\",\"LwQ\",\"Unf\",\"NA\"],\n",
    "    \"bsmtfintype2_classes\"      :      [\"GLQ\",\"ALQ\",\"BLQ\",\"Rec\",\"LwQ\",\"Unf\",\"NA\"],\n",
    "    \"heating_classes\"           :      [\"Floor\",\"GasA\",\"GasW\",\"Grav\",\"OthW\",\"Wall\"],\n",
    "    \"heatingqc_classes\"         :      [\"Ex\",\"Gd\",\"TA\",\"Fa\",\"Po\"],\n",
    "    \"centralair_classes\"        :      [\"N\", \"Y\"],\n",
    "    \"electrical_classes\"        :      [\"SBrkr\",\"FuseA\",\"FuseF\",\"FuseP\",\"Mix\"],\n",
    "    \"kitchenqual_classes\"       :      [\"Ex\",\"Gd\",\"TA\",\"Fa\",\"Po\"],\n",
    "    \"functional_classes\"        :      [\"Typ\",\"Min1\",\"Min2\",\"Mod\",\"Maj1\",\"Maj2\",\"Sev\",\"Sal\"],\n",
    "    \"fireplacequ_classes\"       :      [\"Ex\",\"Gd\",\"TA\",\"Fa\",\"Po\",\"NA\"],\n",
    "    \"garagetype_classes\"        :      [\"2Types\",\"Attchd\",\"Basment\",\"BuiltIn\",\"CarPort\",\"Detchd\",\"NA\"],\n",
    "    \"garagefinish_classes\"      :      [\"Fin\",\"RFn\",\"Unf\",\"NA\"],\n",
    "    \"garagequal_classes\"        :      [\"Ex\",\"Gd\",\"TA\",\"Fa\",\"Po\",\"NA\"],\n",
    "    \"garagecond_classes\"        :      [\"Ex\",\"Gd\",\"TA\",\"Fa\",\"Po\",\"NA\"],\n",
    "    \"paveddrive_classes\"        :      [\"Y\",\"P\",\"N\"],\n",
    "    \"poolqc_classes\"            :      [\"Ex\",\"Gd\",\"TA\",\"Fa\",\"NA\"],\n",
    "    \"fence_classes\"             :      [\"GdPrv\",\"MnPrv\",\"GdWo\",\"MnWw\",\"NA\"],\n",
    "    \"miscfeature_classes\"       :      [\"Elev\",\"Gar2\",\"Othr\",\"Shed\",\"TenC\",\"NA\"],\n",
    "    \"saletype_classes\"          :      [\"WD\",\"CWD\",\"VWD\",\"New\",\"COD\",\"Con\",\"ConLw\",\"ConLI\",\"ConLD\",\"Oth\"],\n",
    "    \"salecondition_classes\"     :      [\"Normal\",\"Abnorml\",\"AdjLand\",\"Alloca\",\"Family\",\"Partial\"]\n",
    "}\n",
    "\n",
    "## Changing the non-numeric values to numeric\n",
    "enumerate = range(1,50)\n",
    "for key in classes:\n",
    "    for i,j in zip(classes[key], enumerate):\n",
    "        train_csv = train_csv.mask(train_csv == i, j)\n",
    "        test_csv = test_csv.mask(test_csv == i, j)\n",
    "\n",
    "\n",
    "print(\"train_csv\")\n",
    "print(train_csv)\n",
    "print(\"test_csv\")\n",
    "print(test_csv)"
   ]
  },
  {
   "cell_type": "code",
   "execution_count": 6,
   "metadata": {},
   "outputs": [
    {
     "name": "stdout",
     "output_type": "stream",
     "text": [
      "[208500 181500 223500 ... 266500 142125 147500]\n",
      "[[60 6 65.0 ... 2008 1 1]\n",
      " [20 6 80.0 ... 2007 1 1]\n",
      " [60 6 68.0 ... 2008 1 1]\n",
      " ...\n",
      " [70 6 66.0 ... 2010 1 1]\n",
      " [20 6 68.0 ... 2010 1 1]\n",
      " [20 6 75.0 ... 2008 1 1]]\n"
     ]
    }
   ],
   "source": [
    "## Deze 2 cellen moeten mss naar 3\n",
    "# we kunnen het bij formatting zetten yup\n",
    "## Split x and y\n",
    "train_x = train_csv.drop(\"SalePrice\", axis=1)\n",
    "train_x = train_x.drop(\"Id\", axis=1).to_numpy() ## drop the salesprice and ID, salesprice is for the output matrix and ID is uncorrelated\n",
    "train_y = train_csv[\"SalePrice\"].to_numpy()\n",
    "test_x = test_csv.drop(\"Id\", axis=1).to_numpy()\n",
    "print(train_y)\n",
    "print(train_x)\n"
   ]
  },
  {
   "cell_type": "code",
   "execution_count": 7,
   "metadata": {},
   "outputs": [
    {
     "name": "stdout",
     "output_type": "stream",
     "text": [
      "[[0.07337496353744791 -0.13017498600918967 0.21287719636432456 ...\n",
      "  0.13877748894979391 -0.3584490595099593 -0.3947855646830329]\n",
      " [-0.8725627562389233 -0.13017498600918967 0.6457472613948451 ...\n",
      "  -0.6144386220786338 -0.3584490595099593 -0.3947855646830329]\n",
      " [0.07337496353744791 -0.13017498600918967 0.29945120937042863 ...\n",
      "  0.13877748894979391 -0.3584490595099593 -0.3947855646830329]\n",
      " ...\n",
      " [0.30985939348154073 -0.13017498600918967 0.2417352006996926 ...\n",
      "  1.6452097110066493 -0.3584490595099593 -0.3947855646830329]\n",
      " [-0.8725627562389233 -0.13017498600918967 0.29945120937042863 ...\n",
      "  1.6452097110066493 -0.3584490595099593 -0.3947855646830329]\n",
      " [-0.8725627562389233 -0.13017498600918967 0.5014572397180048 ...\n",
      "  0.13877748894979391 -0.3584490595099593 -0.3947855646830329]]\n",
      "[[-0.8725627562389233 -1.1048184710010729 0.6457472613948451 ...\n",
      "  1.6452097110066493 -0.3584490595099593 -0.3947855646830329]\n",
      " [-0.8725627562389233 -0.13017498600918967 0.6746052657302131 ...\n",
      "  1.6452097110066493 -0.3584490595099593 -0.3947855646830329]\n",
      " [0.07337496353744791 -0.13017498600918967 0.4725992353826368 ...\n",
      "  1.6452097110066493 -0.3584490595099593 -0.3947855646830329]\n",
      " ...\n",
      " [-0.8725627562389233 -0.13017498600918967 2.9543876082242875 ...\n",
      "  -1.3676547331070614 -0.3584490595099593 0.28331669936076465]\n",
      " [0.6645860383976799 -0.13017498600918967 0.12630318335822047 ...\n",
      "  -1.3676547331070614 -0.3584490595099593 -0.3947855646830329]\n",
      " [0.07337496353744791 -0.13017498600918967 0.4725992353826368 ...\n",
      "  -1.3676547331070614 -0.3584490595099593 -0.3947855646830329]]\n"
     ]
    }
   ],
   "source": [
    "means = []\n",
    "stds = []\n",
    "\n",
    "for i in range(len(train_x[0])):\n",
    "    means.append(np.mean(train_x[:,i]))\n",
    "    stds.append(np.std(train_x[:,i]))\n",
    "\n",
    "for i in range(len(train_x[0])):\n",
    "    train_x[:,i] = (train_x[:,i] - means[i]) / stds[i]\n",
    "    test_x[:,i] = (test_x[:,i] - means[i]) / stds[i]\n",
    "\n",
    "print(train_x)\n",
    "print(test_x)\n"
   ]
  },
  {
   "cell_type": "markdown",
   "metadata": {},
   "source": [
    "### 3.2 Analysing the dataset\n",
    "\n",
    "We can check which features have the most effect on the pricing by finding the level of correlation of the feature to the sale price. There we can see that some features are strongly correlated to the price and others are negatively correlated. This is generalised however over the full training dataset, making it so that the correlation is a good indicator of how a feature affects the price, yet the exact effect might be different."
   ]
  },
  {
   "cell_type": "code",
   "execution_count": 8,
   "metadata": {},
   "outputs": [
    {
     "name": "stdout",
     "output_type": "stream",
     "text": [
      "SalePrice \t \t 1.0 \n",
      "\n",
      "OverallQual \t \t 0.7909816005838053 \n",
      "\n",
      "GrLivArea \t \t 0.7086244776126515 \n",
      "\n",
      "GarageCars \t \t 0.6404091972583519 \n",
      "\n",
      "GarageArea \t \t 0.6234314389183622 \n",
      "\n",
      "TotalBsmtSF \t \t 0.6135805515591943 \n",
      "\n",
      "1stFlrSF \t \t 0.6058521846919153 \n",
      "\n",
      "FullBath \t \t 0.5606637627484453 \n",
      "\n",
      "TotRmsAbvGrd \t \t 0.5337231555820284 \n",
      "\n",
      "YearBuilt \t \t 0.5228973328794967 \n",
      "\n",
      "YearRemodAdd \t \t 0.5071009671113866 \n",
      "\n",
      "MasVnrArea \t \t 0.4726144990045735 \n",
      "\n",
      "Fireplaces \t \t 0.46692883675152763 \n",
      "\n",
      "MasVnrType \t \t 0.4197113734867257 \n",
      "\n",
      "BsmtFinSF1 \t \t 0.3864198062421535 \n",
      "\n",
      "FireplaceQu \t \t 0.3422158247720578 \n",
      "\n",
      "WoodDeckSF \t \t 0.32441344456812926 \n",
      "\n",
      "2ndFlrSF \t \t 0.31933380283206736 \n",
      "\n",
      "OpenPorchSF \t \t 0.31585622711605504 \n",
      "\n",
      "SaleCondition \t \t 0.2925675848571315 \n",
      "\n",
      "HalfBath \t \t 0.28410767559478256 \n",
      "\n",
      "LotShape \t \t 0.2677593139178233 \n",
      "\n",
      "LotArea \t \t 0.2638433538714051 \n",
      "\n",
      "GarageYrBlt \t \t 0.2613664351029629 \n",
      "\n",
      "CentralAir \t \t 0.25132816384015516 \n",
      "\n",
      "BsmtFullBath \t \t 0.22712223313149427 \n",
      "\n",
      "RoofStyle \t \t 0.22240529240713863 \n",
      "\n",
      "BsmtUnfSF \t \t 0.21447910554696928 \n",
      "\n",
      "PavedDrive \t \t 0.21262978253141107 \n",
      "\n",
      "LotFrontage \t \t 0.2096239447994837 \n",
      "\n",
      "Neighborhood \t \t 0.20882443679360976 \n",
      "\n",
      "GarageCond \t \t 0.18601842914571004 \n",
      "\n",
      "GarageQual \t \t 0.17372769102437935 \n",
      "\n",
      "BedroomAbvGr \t \t 0.16821315430073963 \n",
      "\n",
      "SaleType \t \t 0.15094766902173953 \n",
      "\n",
      "Exterior2nd \t \t 0.1339590049839631 \n",
      "\n",
      "BsmtFinType2 \t \t 0.13244522688468952 \n",
      "\n",
      "RoofMatl \t \t 0.12222710483202882 \n",
      "\n",
      "Exterior1st \t \t 0.11961435719139477 \n",
      "\n",
      "ScreenPorch \t \t 0.11144657114291112 \n",
      "\n",
      "PoolArea \t \t 0.09240354949187318 \n",
      "\n",
      "LotConfig \t \t 0.09231596731484665 \n",
      "\n",
      "Condition1 \t \t 0.08383810316349821 \n",
      "\n",
      "LandContour \t \t 0.07304157489380401 \n",
      "\n",
      "HouseStyle \t \t 0.0635469555184396 \n",
      "\n",
      "Condition2 \t \t 0.0574897449631515 \n",
      "\n",
      "LandSlope \t \t 0.05115224817946627 \n",
      "\n",
      "PoolQC \t \t 0.04971426190844605 \n",
      "\n",
      "BsmtCond \t \t 0.04875195349893608 \n",
      "\n",
      "MoSold \t \t 0.046432245223819446 \n",
      "\n",
      "3SsnPorch \t \t 0.04458366533574838 \n",
      "\n",
      "Street \t \t 0.0410355355000494 \n",
      "\n",
      "BsmtFinSF2 \t \t -0.011378121450215146 \n",
      "\n",
      "Utilities \t \t -0.014314296147248834 \n",
      "\n",
      "BsmtHalfBath \t \t -0.01684415429735895 \n",
      "\n",
      "ExterCond \t \t -0.018899118482413112 \n",
      "\n",
      "MiscVal \t \t -0.021189579640303213 \n",
      "\n",
      "Id \t \t -0.021916719443430967 \n",
      "\n",
      "LowQualFinSF \t \t -0.02560613000067955 \n",
      "\n",
      "YrSold \t \t -0.028922585168736813 \n",
      "\n",
      "MiscFeature \t \t -0.0705804922644377 \n",
      "\n",
      "OverallCond \t \t -0.07785589404867797 \n",
      "\n",
      "MSSubClass \t \t -0.08428413512659509 \n",
      "\n",
      "Alley \t \t -0.09260744997351616 \n",
      "\n",
      "Heating \t \t -0.09881207599757678 \n",
      "\n",
      "Functional \t \t -0.11319818758332478 \n",
      "\n",
      "EnclosedPorch \t \t -0.1285779579259566 \n",
      "\n",
      "KitchenAbvGr \t \t -0.13590737084214105 \n",
      "\n",
      "Foundation \t \t -0.1680427399916101 \n",
      "\n",
      "BldgType \t \t -0.17853433829144583 \n",
      "\n",
      "Fence \t \t -0.18555918320873677 \n",
      "\n",
      "BsmtExposure \t \t -0.18958325102054382 \n",
      "\n",
      "MSZoning \t \t -0.2209010660918256 \n",
      "\n",
      "GarageType \t \t -0.22381853020674983 \n",
      "\n",
      "BsmtFinType1 \t \t -0.2263326691519014 \n",
      "\n",
      "Electrical \t \t -0.23263208352916917 \n",
      "\n",
      "GarageFinish \t \t -0.3791583519156834 \n",
      "\n",
      "HeatingQC \t \t -0.42764870739880356 \n",
      "\n",
      "BsmtQual \t \t -0.47755697788426543 \n",
      "\n",
      "KitchenQual \t \t -0.6595997207286626 \n",
      "\n",
      "ExterQual \t \t -0.6826392416562586 \n",
      "\n"
     ]
    }
   ],
   "source": [
    "price_corr = train_csv.corr()['SalePrice'].sort_values(ascending=False)\n",
    "for i in range(len(price_corr)):\n",
    "    print(price_corr.index[i], '\\t \\t' ,price_corr.values[i], '\\n') "
   ]
  },
  {
   "cell_type": "code",
   "execution_count": 9,
   "metadata": {},
   "outputs": [
    {
     "data": {
      "image/png": "[encoded data removed]",
      "text/plain": [
       "<Figure size 1000x500 with 2 Axes>"
      ]
     },
     "metadata": {},
     "output_type": "display_data"
    }
   ],
   "source": [
    "plt.figure(figsize=(10,5))\n",
    "plt.subplot(121)\n",
    "plt.scatter(train_csv['OverallQual'], train_csv['SalePrice'])\n",
    "plt.title(\"Overall quality vs sale price\")\n",
    "plt.ylabel('Sale price')\n",
    "plt.xlabel(\"Overall quality\")\n",
    "plt.subplot(122)\n",
    "plt.scatter(train_csv['ExterQual'], train_csv['SalePrice'])\n",
    "plt.title(\"Exterior quality vs sale price\")\n",
    "plt.ylabel('Sale price')\n",
    "plt.xlabel(\"Exterior quality\")\n",
    "\n",
    "plt.tight_layout()"
   ]
  },
  {
   "cell_type": "markdown",
   "metadata": {},
   "source": [
    "Finally we can also check how all features are correlated to one another. This is done through the Pearson Correlation Matrix. Here we can "
   ]
  },
  {
   "cell_type": "markdown",
   "metadata": {},
   "source": [
    "# 4. Fitting a linear model to the dataset\n",
    "\n"
   ]
  },
  {
   "cell_type": "markdown",
   "metadata": {},
   "source": [
    "## 4.1 Applying principal component analysis"
   ]
  },
  {
   "cell_type": "code",
   "execution_count": 10,
   "metadata": {},
   "outputs": [],
   "source": [
    "# apply pca to the dataset\n",
    "\n",
    "pca = sklearn.decomposition.PCA(n_components=79)\n",
    "\n",
    "x_train = pca.fit_transform(train_x)\n",
    "x_test = pca.transform(test_x)"
   ]
  },
  {
   "cell_type": "code",
   "execution_count": 11,
   "metadata": {},
   "outputs": [
    {
     "data": {
      "image/png": "[encoded data removed]",
      "text/plain": [
       "<Figure size 1000x1000 with 2 Axes>"
      ]
     },
     "metadata": {},
     "output_type": "display_data"
    }
   ],
   "source": [
    "singular_values = pca.singular_values_\n",
    "explained_variance_ratio = pca.explained_variance_ratio_\n",
    "\n",
    "cumulative_explained_variance_ratio = np.cumsum(explained_variance_ratio)\n",
    "#print(cumulative_explained_variance_ratio)\n",
    "\n",
    "# plotting the singular values and the histogram of the explained varainces\n",
    "fig = plt.figure(figsize=(10,10))\n",
    "plt.subplot(211)\n",
    "plt.stem(singular_values)\n",
    "# plt.tick_params(axis='x', which='both', bottom=False, top=False, labelbottom=False)\n",
    "plt.xticks(np.arange(0,len(singular_values),1))\n",
    "plt.title(\"Singular Values\")\n",
    "plt.ylabel(\"Value\")\n",
    "plt.xlabel(\"Singular value index\")\n",
    "plt.subplot(212)\n",
    "plt.bar(np.arange(0,len(explained_variance_ratio[:]),1), explained_variance_ratio[:], label=\"Individual Variance\")\n",
    "plt.step(np.arange(0,len(cumulative_explained_variance_ratio[:]),1),cumulative_explained_variance_ratio[:], label=\"Cumulative Variance\", color='r')\n",
    "# plt.xticks([0,1,2,3,4])\n",
    "plt.title(\"Variance\")\n",
    "plt.ylabel(\"Explained variance ratio [%]\")\n",
    "plt.xlabel(\"Principal component index\")\n",
    "plt.legend()\n",
    "plt.ylim((0,1))\n",
    "fig.tight_layout(pad=2)\n",
    "plt.show()"
   ]
  },
  {
   "cell_type": "markdown",
   "metadata": {},
   "source": [
    "## 4.2 Creating a deep learning model\n",
    "\n"
   ]
  },
  {
   "cell_type": "code",
   "execution_count": 12,
   "metadata": {},
   "outputs": [],
   "source": [
    "Layer0 = 79 ## n PCA componente\n",
    "\n",
    "layer1 = 79\n",
    "layer2 = 40\n",
    "layer3 = 30\n",
    "\n",
    "LayerOut = 1\n",
    "\n",
    "Inputs  = keras.Input(shape=(Layer0, ))\n",
    "dense = keras.layers.Dense(layer1, activation= 'relu')\n",
    "x = dense(Inputs)\n",
    "x = keras.layers.Dense(layer2, activation= 'relu')(x)\n",
    "x = keras.layers.Dense(layer3, activation= 'relu')(x)\n",
    "\n",
    "Outputs = keras.layers.Dense(LayerOut)(x)\n",
    "\n",
    "model = keras.Model(inputs=Inputs, outputs=Outputs, name = 'housingModel')"
   ]
  },
  {
   "cell_type": "code",
   "execution_count": 13,
   "metadata": {},
   "outputs": [
    {
     "data": {
      "text/html": [
       "<pre style=\"white-space:pre;overflow-x:auto;line-height:normal;font-family:Menlo,'DejaVu Sans Mono',consolas,'Courier New',monospace\"><span style=\"font-weight: bold\">Model: \"housingModel\"</span>\n",
       "</pre>\n"
      ],
      "text/plain": [
       "\u001b[1mModel: \"housingModel\"\u001b[0m\n"
      ]
     },
     "metadata": {},
     "output_type": "display_data"
    },
    {
     "data": {
      "text/html": [
       "<pre style=\"white-space:pre;overflow-x:auto;line-height:normal;font-family:Menlo,'DejaVu Sans Mono',consolas,'Courier New',monospace\">┏━━━━━━━━━━━━━━━━━━━━━━━━━━━━━━━━━┳━━━━━━━━━━━━━━━━━━━━━━━━┳━━━━━━━━━━━━━━━┓\n",
       "┃<span style=\"font-weight: bold\"> Layer (type)                    </span>┃<span style=\"font-weight: bold\"> Output Shape           </span>┃<span style=\"font-weight: bold\">       Param # </span>┃\n",
       "┡━━━━━━━━━━━━━━━━━━━━━━━━━━━━━━━━━╇━━━━━━━━━━━━━━━━━━━━━━━━╇━━━━━━━━━━━━━━━┩\n",
       "│ input_layer (<span style=\"color: #0087ff; text-decoration-color: #0087ff\">InputLayer</span>)        │ (<span style=\"color: #00d7ff; text-decoration-color: #00d7ff\">None</span>, <span style=\"color: #00af00; text-decoration-color: #00af00\">79</span>)             │             <span style=\"color: #00af00; text-decoration-color: #00af00\">0</span> │\n",
       "├─────────────────────────────────┼────────────────────────┼───────────────┤\n",
       "│ dense (<span style=\"color: #0087ff; text-decoration-color: #0087ff\">Dense</span>)                   │ (<span style=\"color: #00d7ff; text-decoration-color: #00d7ff\">None</span>, <span style=\"color: #00af00; text-decoration-color: #00af00\">79</span>)             │         <span style=\"color: #00af00; text-decoration-color: #00af00\">6,320</span> │\n",
       "├─────────────────────────────────┼────────────────────────┼───────────────┤\n",
       "│ dense_1 (<span style=\"color: #0087ff; text-decoration-color: #0087ff\">Dense</span>)                 │ (<span style=\"color: #00d7ff; text-decoration-color: #00d7ff\">None</span>, <span style=\"color: #00af00; text-decoration-color: #00af00\">40</span>)             │         <span style=\"color: #00af00; text-decoration-color: #00af00\">3,200</span> │\n",
       "├─────────────────────────────────┼────────────────────────┼───────────────┤\n",
       "│ dense_2 (<span style=\"color: #0087ff; text-decoration-color: #0087ff\">Dense</span>)                 │ (<span style=\"color: #00d7ff; text-decoration-color: #00d7ff\">None</span>, <span style=\"color: #00af00; text-decoration-color: #00af00\">30</span>)             │         <span style=\"color: #00af00; text-decoration-color: #00af00\">1,230</span> │\n",
       "├─────────────────────────────────┼────────────────────────┼───────────────┤\n",
       "│ dense_3 (<span style=\"color: #0087ff; text-decoration-color: #0087ff\">Dense</span>)                 │ (<span style=\"color: #00d7ff; text-decoration-color: #00d7ff\">None</span>, <span style=\"color: #00af00; text-decoration-color: #00af00\">1</span>)              │            <span style=\"color: #00af00; text-decoration-color: #00af00\">31</span> │\n",
       "└─────────────────────────────────┴────────────────────────┴───────────────┘\n",
       "</pre>\n"
      ],
      "text/plain": [
       "┏━━━━━━━━━━━━━━━━━━━━━━━━━━━━━━━━━┳━━━━━━━━━━━━━━━━━━━━━━━━┳━━━━━━━━━━━━━━━┓\n",
       "┃\u001b[1m \u001b[0m\u001b[1mLayer (type)                   \u001b[0m\u001b[1m \u001b[0m┃\u001b[1m \u001b[0m\u001b[1mOutput Shape          \u001b[0m\u001b[1m \u001b[0m┃\u001b[1m \u001b[0m\u001b[1m      Param #\u001b[0m\u001b[1m \u001b[0m┃\n",
       "┡━━━━━━━━━━━━━━━━━━━━━━━━━━━━━━━━━╇━━━━━━━━━━━━━━━━━━━━━━━━╇━━━━━━━━━━━━━━━┩\n",
       "│ input_layer (\u001b[38;5;33mInputLayer\u001b[0m)        │ (\u001b[38;5;45mNone\u001b[0m, \u001b[38;5;34m79\u001b[0m)             │             \u001b[38;5;34m0\u001b[0m │\n",
       "├─────────────────────────────────┼────────────────────────┼───────────────┤\n",
       "│ dense (\u001b[38;5;33mDense\u001b[0m)                   │ (\u001b[38;5;45mNone\u001b[0m, \u001b[38;5;34m79\u001b[0m)             │         \u001b[38;5;34m6,320\u001b[0m │\n",
       "├─────────────────────────────────┼────────────────────────┼───────────────┤\n",
       "│ dense_1 (\u001b[38;5;33mDense\u001b[0m)                 │ (\u001b[38;5;45mNone\u001b[0m, \u001b[38;5;34m40\u001b[0m)             │         \u001b[38;5;34m3,200\u001b[0m │\n",
       "├─────────────────────────────────┼────────────────────────┼───────────────┤\n",
       "│ dense_2 (\u001b[38;5;33mDense\u001b[0m)                 │ (\u001b[38;5;45mNone\u001b[0m, \u001b[38;5;34m30\u001b[0m)             │         \u001b[38;5;34m1,230\u001b[0m │\n",
       "├─────────────────────────────────┼────────────────────────┼───────────────┤\n",
       "│ dense_3 (\u001b[38;5;33mDense\u001b[0m)                 │ (\u001b[38;5;45mNone\u001b[0m, \u001b[38;5;34m1\u001b[0m)              │            \u001b[38;5;34m31\u001b[0m │\n",
       "└─────────────────────────────────┴────────────────────────┴───────────────┘\n"
      ]
     },
     "metadata": {},
     "output_type": "display_data"
    },
    {
     "data": {
      "text/html": [
       "<pre style=\"white-space:pre;overflow-x:auto;line-height:normal;font-family:Menlo,'DejaVu Sans Mono',consolas,'Courier New',monospace\"><span style=\"font-weight: bold\"> Total params: </span><span style=\"color: #00af00; text-decoration-color: #00af00\">10,781</span> (42.11 KB)\n",
       "</pre>\n"
      ],
      "text/plain": [
       "\u001b[1m Total params: \u001b[0m\u001b[38;5;34m10,781\u001b[0m (42.11 KB)\n"
      ]
     },
     "metadata": {},
     "output_type": "display_data"
    },
    {
     "data": {
      "text/html": [
       "<pre style=\"white-space:pre;overflow-x:auto;line-height:normal;font-family:Menlo,'DejaVu Sans Mono',consolas,'Courier New',monospace\"><span style=\"font-weight: bold\"> Trainable params: </span><span style=\"color: #00af00; text-decoration-color: #00af00\">10,781</span> (42.11 KB)\n",
       "</pre>\n"
      ],
      "text/plain": [
       "\u001b[1m Trainable params: \u001b[0m\u001b[38;5;34m10,781\u001b[0m (42.11 KB)\n"
      ]
     },
     "metadata": {},
     "output_type": "display_data"
    },
    {
     "data": {
      "text/html": [
       "<pre style=\"white-space:pre;overflow-x:auto;line-height:normal;font-family:Menlo,'DejaVu Sans Mono',consolas,'Courier New',monospace\"><span style=\"font-weight: bold\"> Non-trainable params: </span><span style=\"color: #00af00; text-decoration-color: #00af00\">0</span> (0.00 B)\n",
       "</pre>\n"
      ],
      "text/plain": [
       "\u001b[1m Non-trainable params: \u001b[0m\u001b[38;5;34m0\u001b[0m (0.00 B)\n"
      ]
     },
     "metadata": {},
     "output_type": "display_data"
    }
   ],
   "source": [
    "model.summary()\n"
   ]
  },
  {
   "cell_type": "markdown",
   "metadata": {},
   "source": [
    "# N. References\n",
    "\n",
    "- Predicting House Prices (Keras - ANN), Tomas Mantero, https://www.kaggle.com/code/tomasmantero/predicting-house-prices-keras-ann/notebook\n",
    "- "
   ]
  }
 ],
 "metadata": {
  "kernelspec": {
   "display_name": "Python 3",
   "language": "python",
   "name": "python3"
  },
  "language_info": {
   "codemirror_mode": {
    "name": "ipython",
    "version": 3
   },
   "file_extension": ".py",
   "mimetype": "text/x-python",
   "name": "python",
   "nbconvert_exporter": "python",
   "pygments_lexer": "ipython3",
   "version": "3.11.8"
  }
 },
 "nbformat": 4,
 "nbformat_minor": 2
}
