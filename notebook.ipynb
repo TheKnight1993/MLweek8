{
 "cells": [
  {
   "cell_type": "code",
   "execution_count": 1,
   "metadata": {},
   "outputs": [],
   "source": [
    "import os\n",
    "import matplotlib.pyplot as plt\n",
    "import pandas as pd\n",
    "import numpy as np\n",
    "import scipy as sp\n",
    "import keras\n",
    "import sklearn.decomposition\n",
    "import sklearn.model_selection\n",
    "import sklearn.preprocessing\n",
    "import sklearn.linear_model\n",
    "import sklearn.metrics\n"
   ]
  },
  {
   "cell_type": "markdown",
   "metadata": {},
   "source": [
    "- [1. Introduction](#1-introduction)\n",
    "\n"
   ]
  },
  {
   "cell_type": "markdown",
   "metadata": {},
   "source": [
    "# 1. Introduction\n",
    "\n",
    "Predicting for how much houses will sell will help current and prospective homeowners navigate the cluttered landscape of real estate. "
   ]
  },
  {
   "cell_type": "markdown",
   "metadata": {},
   "source": [
    "# 2. Dataset\n",
    "\n",
    "The dataset provided houses a lot of different parameters on which the price of a house can depend. Just to give a couple examples with their usual impact on the house price from general knowledge and experience:\n",
    "\n",
    "- LotArea: the area of the land on which a house stands. In general the higher this number the higher the price.\n",
    "- Bedroom: number of bedrooms above ground. In general the higher the number of bedrooms the higher the price.\n",
    "\n",
    "There are a lot more prameters that are contained in the dataset. For more detail on this consult the data_description.txt file. "
   ]
  },
  {
   "cell_type": "markdown",
   "metadata": {},
   "source": [
    "# 3. Analysing the dataset\n",
    "\n",
    "For this we first have to open the csv files that contain the data. In here we see that there are some columns that contain numeric data and some that do not. There are also some empty values. Before any models can be trained on the dataset we have to format it such that there are solely numeric values. In the data_description.txt file all the different kinds of non-numeric values can be found. "
   ]
  },
  {
   "cell_type": "code",
   "execution_count": 11,
   "metadata": {},
   "outputs": [
    {
     "name": "stdout",
     "output_type": "stream",
     "text": [
      "   Id  MSSubClass MSZoning  LotFrontage  LotArea Street Alley LotShape  \\\n",
      "0   1          60       RL         65.0     8450   Pave   NaN      Reg   \n",
      "1   2          20       RL         80.0     9600   Pave   NaN      Reg   \n",
      "2   3          60       RL         68.0    11250   Pave   NaN      IR1   \n",
      "3   4          70       RL         60.0     9550   Pave   NaN      IR1   \n",
      "4   5          60       RL         84.0    14260   Pave   NaN      IR1   \n",
      "\n",
      "  LandContour Utilities  ... PoolArea PoolQC Fence MiscFeature MiscVal MoSold  \\\n",
      "0         Lvl    AllPub  ...        0    NaN   NaN         NaN       0      2   \n",
      "1         Lvl    AllPub  ...        0    NaN   NaN         NaN       0      5   \n",
      "2         Lvl    AllPub  ...        0    NaN   NaN         NaN       0      9   \n",
      "3         Lvl    AllPub  ...        0    NaN   NaN         NaN       0      2   \n",
      "4         Lvl    AllPub  ...        0    NaN   NaN         NaN       0     12   \n",
      "\n",
      "  YrSold  SaleType  SaleCondition  SalePrice  \n",
      "0   2008        WD         Normal     208500  \n",
      "1   2007        WD         Normal     181500  \n",
      "2   2008        WD         Normal     223500  \n",
      "3   2006        WD        Abnorml     140000  \n",
      "4   2008        WD         Normal     250000  \n",
      "\n",
      "[5 rows x 81 columns]\n",
      "['Id' 'MSSubClass' 'MSZoning' 'LotFrontage' 'LotArea' 'Street' 'Alley'\n",
      " 'LotShape' 'LandContour' 'Utilities' 'LotConfig' 'LandSlope'\n",
      " 'Neighborhood' 'Condition1' 'Condition2' 'BldgType' 'HouseStyle'\n",
      " 'OverallQual' 'OverallCond' 'YearBuilt' 'YearRemodAdd' 'RoofStyle'\n",
      " 'RoofMatl' 'Exterior1st' 'Exterior2nd' 'MasVnrType' 'MasVnrArea'\n",
      " 'ExterQual' 'ExterCond' 'Foundation' 'BsmtQual' 'BsmtCond' 'BsmtExposure'\n",
      " 'BsmtFinType1' 'BsmtFinSF1' 'BsmtFinType2' 'BsmtFinSF2' 'BsmtUnfSF'\n",
      " 'TotalBsmtSF' 'Heating' 'HeatingQC' 'CentralAir' 'Electrical' '1stFlrSF'\n",
      " '2ndFlrSF' 'LowQualFinSF' 'GrLivArea' 'BsmtFullBath' 'BsmtHalfBath'\n",
      " 'FullBath' 'HalfBath' 'BedroomAbvGr' 'KitchenAbvGr' 'KitchenQual'\n",
      " 'TotRmsAbvGrd' 'Functional' 'Fireplaces' 'FireplaceQu' 'GarageType'\n",
      " 'GarageYrBlt' 'GarageFinish' 'GarageCars' 'GarageArea' 'GarageQual'\n",
      " 'GarageCond' 'PavedDrive' 'WoodDeckSF' 'OpenPorchSF' 'EnclosedPorch'\n",
      " '3SsnPorch' 'ScreenPorch' 'PoolArea' 'PoolQC' 'Fence' 'MiscFeature'\n",
      " 'MiscVal' 'MoSold' 'YrSold' 'SaleType' 'SaleCondition' 'SalePrice']\n"
     ]
    }
   ],
   "source": [
    "# accessing the csv files\n",
    "\n",
    "train_csv = pd.read_csv(\"./house-prices-advanced-regression-techniques/train.csv\")\n",
    "test_csv = pd.read_csv(\"./house-prices-advanced-regression-techniques/test.csv\")\n",
    "\n",
    "data_fields = train_csv.columns.values\n",
    "\n",
    "print(train_csv.head())\n",
    "print(data_fields)"
   ]
  },
  {
   "cell_type": "code",
   "execution_count": 30,
   "metadata": {},
   "outputs": [
    {
     "name": "stdout",
     "output_type": "stream",
     "text": [
      "        Id  MSSubClass MSZoning  LotFrontage  LotArea Street Alley LotShape  \\\n",
      "0        1          60       RL         65.0     8450   Pave     0      Reg   \n",
      "1        2          20       RL         80.0     9600   Pave     0      Reg   \n",
      "2        3          60       RL         68.0    11250   Pave     0      IR1   \n",
      "3        4          70       RL         60.0     9550   Pave     0      IR1   \n",
      "4        5          60       RL         84.0    14260   Pave     0      IR1   \n",
      "...    ...         ...      ...          ...      ...    ...   ...      ...   \n",
      "1455  1456          60       RL         62.0     7917   Pave     0      Reg   \n",
      "1456  1457          20       RL         85.0    13175   Pave     0      Reg   \n",
      "1457  1458          70       RL         66.0     9042   Pave     0      Reg   \n",
      "1458  1459          20       RL         68.0     9717   Pave     0      Reg   \n",
      "1459  1460          20       RL         75.0     9937   Pave     0      Reg   \n",
      "\n",
      "     LandContour Utilities  ... PoolArea PoolQC  Fence MiscFeature MiscVal  \\\n",
      "0            Lvl    AllPub  ...        0      0      0           0       0   \n",
      "1            Lvl    AllPub  ...        0      0      0           0       0   \n",
      "2            Lvl    AllPub  ...        0      0      0           0       0   \n",
      "3            Lvl    AllPub  ...        0      0      0           0       0   \n",
      "4            Lvl    AllPub  ...        0      0      0           0       0   \n",
      "...          ...       ...  ...      ...    ...    ...         ...     ...   \n",
      "1455         Lvl    AllPub  ...        0      0      0           0       0   \n",
      "1456         Lvl    AllPub  ...        0      0  MnPrv           0       0   \n",
      "1457         Lvl    AllPub  ...        0      0  GdPrv        Shed    2500   \n",
      "1458         Lvl    AllPub  ...        0      0      0           0       0   \n",
      "1459         Lvl    AllPub  ...        0      0      0           0       0   \n",
      "\n",
      "     MoSold YrSold  SaleType  SaleCondition  SalePrice  \n",
      "0         2   2008        WD         Normal     208500  \n",
      "1         5   2007        WD         Normal     181500  \n",
      "2         9   2008        WD         Normal     223500  \n",
      "3         2   2006        WD        Abnorml     140000  \n",
      "4        12   2008        WD         Normal     250000  \n",
      "...     ...    ...       ...            ...        ...  \n",
      "1455      8   2007        WD         Normal     175000  \n",
      "1456      2   2010        WD         Normal     210000  \n",
      "1457      5   2010        WD         Normal     266500  \n",
      "1458      4   2010        WD         Normal     142125  \n",
      "1459      6   2008        WD         Normal     147500  \n",
      "\n",
      "[1460 rows x 81 columns]\n",
      "        Id  MSSubClass MSZoning  LotFrontage  LotArea Street Alley LotShape  \\\n",
      "0     1461          20       RH         80.0    11622   Pave     0      Reg   \n",
      "1     1462          20       RL         81.0    14267   Pave     0      IR1   \n",
      "2     1463          60       RL         74.0    13830   Pave     0      IR1   \n",
      "3     1464          60       RL         78.0     9978   Pave     0      IR1   \n",
      "4     1465         120       RL         43.0     5005   Pave     0      IR1   \n",
      "...    ...         ...      ...          ...      ...    ...   ...      ...   \n",
      "1454  2915         160       RM         21.0     1936   Pave     0      Reg   \n",
      "1455  2916         160       RM         21.0     1894   Pave     0      Reg   \n",
      "1456  2917          20       RL        160.0    20000   Pave     0      Reg   \n",
      "1457  2918          85       RL         62.0    10441   Pave     0      Reg   \n",
      "1458  2919          60       RL         74.0     9627   Pave     0      Reg   \n",
      "\n",
      "     LandContour Utilities  ... ScreenPorch PoolArea PoolQC  Fence  \\\n",
      "0            Lvl    AllPub  ...         120        0      0  MnPrv   \n",
      "1            Lvl    AllPub  ...           0        0      0      0   \n",
      "2            Lvl    AllPub  ...           0        0      0  MnPrv   \n",
      "3            Lvl    AllPub  ...           0        0      0      0   \n",
      "4            HLS    AllPub  ...         144        0      0      0   \n",
      "...          ...       ...  ...         ...      ...    ...    ...   \n",
      "1454         Lvl    AllPub  ...           0        0      0      0   \n",
      "1455         Lvl    AllPub  ...           0        0      0      0   \n",
      "1456         Lvl    AllPub  ...           0        0      0      0   \n",
      "1457         Lvl    AllPub  ...           0        0      0  MnPrv   \n",
      "1458         Lvl    AllPub  ...           0        0      0      0   \n",
      "\n",
      "     MiscFeature MiscVal MoSold  YrSold  SaleType  SaleCondition  \n",
      "0              0       0      6    2010        WD         Normal  \n",
      "1           Gar2   12500      6    2010        WD         Normal  \n",
      "2              0       0      3    2010        WD         Normal  \n",
      "3              0       0      6    2010        WD         Normal  \n",
      "4              0       0      1    2010        WD         Normal  \n",
      "...          ...     ...    ...     ...       ...            ...  \n",
      "1454           0       0      6    2006        WD         Normal  \n",
      "1455           0       0      4    2006        WD        Abnorml  \n",
      "1456           0       0      9    2006        WD        Abnorml  \n",
      "1457        Shed     700      7    2006        WD         Normal  \n",
      "1458           0       0     11    2006        WD         Normal  \n",
      "\n",
      "[1459 rows x 80 columns]\n"
     ]
    }
   ],
   "source": [
    "# formatting the data\n",
    "\n",
    "# change the NaN values to zero\n",
    "\n",
    "train_csv = train_csv.mask(pd.isna(train_csv), 0)\n",
    "test_csv = test_csv.mask(pd.isna(test_csv), 0)\n",
    "\n",
    "\n",
    "\n",
    "\n",
    "    \n",
    "print(train_csv)\n",
    "print(test_csv)"
   ]
  },
  {
   "cell_type": "markdown",
   "metadata": {},
   "source": [
    "# N. References\n",
    "\n",
    "- Predicting House Prices (Keras - ANN), Tomas Mantero, https://www.kaggle.com/code/tomasmantero/predicting-house-prices-keras-ann/notebook\n",
    "- "
   ]
  }
 ],
 "metadata": {
  "kernelspec": {
   "display_name": "Python 3",
   "language": "python",
   "name": "python3"
  },
  "language_info": {
   "codemirror_mode": {
    "name": "ipython",
    "version": 3
   },
   "file_extension": ".py",
   "mimetype": "text/x-python",
   "name": "python",
   "nbconvert_exporter": "python",
   "pygments_lexer": "ipython3",
   "version": "3.11.8"
  }
 },
 "nbformat": 4,
 "nbformat_minor": 2
}
